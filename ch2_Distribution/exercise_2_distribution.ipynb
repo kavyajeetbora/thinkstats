{
 "cells": [
  {
   "cell_type": "code",
   "execution_count": 1,
   "metadata": {},
   "outputs": [],
   "source": [
    "import pandas as pd\n",
    "import numpy as np\n",
    "import matplotlib.pyplot as plt\n",
    "import os"
   ]
  },
  {
   "cell_type": "code",
   "execution_count": 33,
   "metadata": {},
   "outputs": [],
   "source": [
    "os.chdir(os.path.join('..','data'))\n",
    "df = pd.read_csv(r'2002FemPreg.csv',low_memory=False)\n",
    "df = df[['caseid','prglngth','outcome','pregordr','birthord','totalwgt_lb','agepreg','finalwgt']]\n",
    "df_live = df[df['outcome']==1]\n",
    "# removing null values\n",
    "df_no_nan = df_live[df_live['totalwgt_lb'].notnull()]"
   ]
  },
  {
   "cell_type": "code",
   "execution_count": 34,
   "metadata": {},
   "outputs": [],
   "source": [
    "# divind the groups - first babies and others\n",
    "first_babies = df_no_nan[df_no_nan['birthord']==1]\n",
    "others = df_no_nan[df_no_nan['birthord']!=1]"
   ]
  },
  {
   "cell_type": "code",
   "execution_count": 35,
   "metadata": {},
   "outputs": [
    {
     "name": "stderr",
     "output_type": "stream",
     "text": [
      "/anaconda3/lib/python3.6/site-packages/numpy/core/fromnumeric.py:52: FutureWarning: reshape is deprecated and will raise in a subsequent release. Please use .values.reshape(...) instead\n",
      "  return getattr(obj, method)(*args, **kwds)\n"
     ]
    },
    {
     "data": {
      "text/plain": [
       "0.027952778408273243"
      ]
     },
     "execution_count": 35,
     "metadata": {},
     "output_type": "execute_result"
    },
    {
     "data": {
      "image/png": "[encoded data removed]",
      "text/plain": [
       "<matplotlib.figure.Figure at 0x10d5d7be0>"
      ]
     },
     "metadata": {},
     "output_type": "display_data"
    }
   ],
   "source": [
    "# do the babies arrive late\n",
    "# check the preglength of both the groups\n",
    "plt.hist([first_babies['prglngth'],others['prglngth']])\n",
    "\n",
    "import math\n",
    "\n",
    "def cohen_d(series1,series2):\n",
    "    mean = series1.mean()-series2.mean()\n",
    "    n1 = len(series1)\n",
    "    n2 = len(series2)\n",
    "    pooled_std = math.sqrt((n1*series1.var()+n2*series2.var())/(n1+n2))\n",
    "    return mean/(pooled_std)\n",
    "\n",
    "cohen_d(first_babies['prglngth'],others['prglngth'])\n",
    "# the effect size is about 0.0288 weeks which is very small difference"
   ]
  },
  {
   "cell_type": "code",
   "execution_count": 41,
   "metadata": {},
   "outputs": [
    {
     "name": "stderr",
     "output_type": "stream",
     "text": [
      "/anaconda3/lib/python3.6/site-packages/numpy/core/fromnumeric.py:52: FutureWarning: reshape is deprecated and will raise in a subsequent release. Please use .values.reshape(...) instead\n",
      "  return getattr(obj, method)(*args, **kwds)\n"
     ]
    },
    {
     "data": {
      "text/plain": [
       "-0.08867236333202932"
      ]
     },
     "execution_count": 41,
     "metadata": {},
     "output_type": "execute_result"
    },
    {
     "data": {
      "image/png": "[encoded data removed]",
      "text/plain": [
       "<matplotlib.figure.Figure at 0x10840e2b0>"
      ]
     },
     "metadata": {},
     "output_type": "display_data"
    }
   ],
   "source": [
    "def compare(key):\n",
    "    first_babies = df_no_nan[df_no_nan['birthord']==1]\n",
    "    others = df_no_nan[df_no_nan['birthord']!=1]\n",
    "    labels = ['first baby','others']\n",
    "    series1,series2 = first_babies[key],others[key]\n",
    "    plt.hist([series1,series2],label=labels)\n",
    "    plt.title('Total weight of babies')\n",
    "    plt.xlabel('Weight in lbs')\n",
    "    diff = cohen_d(series1,series2)\n",
    "    return diff\n",
    "\n",
    "compare('totalwgt_lb')\n",
    "\n",
    "# the difference is weight tells us the first babies that are born are lighter by 0.089 lbs than others"
   ]
  }
 ],
 "metadata": {
  "kernelspec": {
   "display_name": "Python 3",
   "language": "python",
   "name": "python3"
  },
  "language_info": {
   "codemirror_mode": {
    "name": "ipython",
    "version": 3
   },
   "file_extension": ".py",
   "mimetype": "text/x-python",
   "name": "python",
   "nbconvert_exporter": "python",
   "pygments_lexer": "ipython3",
   "version": "3.6.4"
  }
 },
 "nbformat": 4,
 "nbformat_minor": 2
}
