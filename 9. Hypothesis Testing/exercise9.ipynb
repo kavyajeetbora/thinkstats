{
 "cells": [
  {
   "cell_type": "code",
   "execution_count": 1,
   "metadata": {},
   "outputs": [],
   "source": [
    "import numpy as np\n",
    "import pandas as pd\n",
    "import matplotlib.pyplot as plt\n",
    "import os\n",
    "import scipy.stats as stats"
   ]
  },
  {
   "cell_type": "markdown",
   "metadata": {},
   "source": [
    "ex 9.1\n",
    "---\n",
    "\n",
    "As sample size increases, the power of a hypothesis test increases, which means it is more likely to be positive if the effect is real.\n",
    "\n",
    "Conversely, as sample size decreases, the test is less likely to be positive even\n",
    "if the effect is real.\n",
    "\n",
    "To investigate this behavior, run the tests in this chapter with different subsets of the NSFG data."
   ]
  },
  {
   "cell_type": "code",
   "execution_count": 2,
   "metadata": {},
   "outputs": [],
   "source": [
    "os.chdir(os.path.join('..','data'))\n",
    "df = pd.read_csv(r'2002FemPreg.csv',low_memory=False)\n",
    "df = df[['caseid','prglngth','outcome','pregordr','birthord','totalwgt_lb','agepreg','finalwgt']]\n",
    "df = df[df['outcome']==1]\n",
    "df = df.dropna()"
   ]
  },
  {
   "cell_type": "code",
   "execution_count": 22,
   "metadata": {},
   "outputs": [],
   "source": [
    "def nullHypothesis(series1,series2):\n",
    "    pooled = np.hstack((series1,series2))\n",
    "    np.random.shuffle(pooled)\n",
    "    return pooled[:len(series1)],pooled[len(series1):]\n",
    "\n",
    "def p_value(xs,ys,iterations=1000):\n",
    "    diff = []\n",
    "    mean = abs(np.mean(xs)-np.mean(ys))\n",
    "    for _ in range(iterations):\n",
    "        group1,group2= nullHypothesis(xs,ys)\n",
    "        mean_diff = abs(np.mean(group1) - np.mean(group2))\n",
    "        diff.append(mean_diff)\n",
    "    occurence = len([x for x in diff if x>=mean])\n",
    "    return occurence/iterations"
   ]
  },
  {
   "cell_type": "code",
   "execution_count": 23,
   "metadata": {},
   "outputs": [
    {
     "data": {
      "text/plain": [
       "0.195"
      ]
     },
     "execution_count": 23,
     "metadata": {},
     "output_type": "execute_result"
    }
   ],
   "source": [
    "first_babies = df[df['birthord']==1]['prglngth']\n",
    "other_babies = df[df['birthord']!=1]['prglngth']\n",
    "p_value(first_babies,other_babies)"
   ]
  },
  {
   "cell_type": "code",
   "execution_count": 5,
   "metadata": {},
   "outputs": [
    {
     "data": {
      "text/plain": [
       "-0.12476118453549034"
      ]
     },
     "execution_count": 5,
     "metadata": {},
     "output_type": "execute_result"
    }
   ],
   "source": [
    "np.mean(first_babies) - np.mean(other_babies)"
   ]
  },
  {
   "cell_type": "code",
   "execution_count": 6,
   "metadata": {},
   "outputs": [],
   "source": [
    "sample_sizes = (np.linspace(start=1,stop=len(first_babies),num=10,dtype=np.int16))\n",
    "p_values = []\n",
    "for size in sample_sizes:\n",
    "    sample1 = np.random.choice(first_babies,size=size,replace=False)\n",
    "    sample2 = np.random.choice(other_babies,size=size,replace=False)\n",
    "    p_values.append(p_value(sample1,sample2))  "
   ]
  },
  {
   "cell_type": "code",
   "execution_count": 7,
   "metadata": {},
   "outputs": [
    {
     "data": {
      "text/plain": [
       "Text(0.5,0,'Sample size')"
      ]
     },
     "execution_count": 7,
     "metadata": {},
     "output_type": "execute_result"
    },
    {
     "data": {
      "image/png": "[encoded data removed]",
      "text/plain": [
       "<matplotlib.figure.Figure at 0x10d27a6d8>"
      ]
     },
     "metadata": {},
     "output_type": "display_data"
    }
   ],
   "source": [
    "plt.plot(sample_sizes,p_values)\n",
    "plt.ylabel('P-value')\n",
    "plt.xlabel('Sample size')"
   ]
  },
  {
   "cell_type": "markdown",
   "metadata": {},
   "source": [
    "test1: difference in mean pregnancy length\n",
    "test2: difference in mean birth weight\n",
    "test3: correlation of mother's age and birth weight\n",
    "test4: chi-square test of pregnancy length\n",
    "\n",
    "tests that are positive with large sample sizes become negative as we take away data\n",
    "\n",
    "In a positive hypothesis test a person generates or examines evidence that is expected to have the property of interest if the hypothesis is correct, whereas in a negative hypothesis test a person generates or examines evidence that is not expected to have the property of interest if the hypothesis is correct"
   ]
  },
  {
   "cell_type": "markdown",
   "metadata": {},
   "source": [
    "ex 9.2\n",
    "---"
   ]
  },
  {
   "cell_type": "markdown",
   "metadata": {},
   "source": [
    "we simulated the null hypothesis by permutation; that is, we treated the observed values as if they represented the entire\n",
    "population, and randomly assigned the members of the population to the\n",
    "two groups\n",
    "\n",
    "An alternative is to use the sample to estimate the distribution for the population, then draw a random sample from that distribution. This process is\n",
    "called resampling.\n",
    "\n",
    "There are several ways to implement resampling, but\n",
    "one of the simplest is to draw a sample with replacement from the observed\n",
    "values."
   ]
  },
  {
   "cell_type": "code",
   "execution_count": 26,
   "metadata": {},
   "outputs": [],
   "source": [
    "def null_hypothesis_resample(xs,ys):\n",
    "    pooled = np.hstack((xs,ys))\n",
    "    sample1 = np.random.choice(pooled,size=len(xs),replace=True)\n",
    "    sample2 = np.random.choice(pooled,size=len(ys),replace=True)\n",
    "    \n",
    "    return sample1,sample2"
   ]
  },
  {
   "cell_type": "markdown",
   "metadata": {},
   "source": [
    "Use this model to test the differences in pregnancy length and birth weight.\n",
    "How much does the model affect the results?"
   ]
  },
  {
   "cell_type": "code",
   "execution_count": 27,
   "metadata": {},
   "outputs": [
    {
     "data": {
      "text/plain": [
       "(0.175, 0.203)"
      ]
     },
     "execution_count": 27,
     "metadata": {},
     "output_type": "execute_result"
    }
   ],
   "source": [
    "# difference in prglength\n",
    "def p_value_resample(xs,ys,iterations=1000):\n",
    "    diff = []\n",
    "    mean = abs(np.mean(xs)-np.mean(ys))\n",
    "    for _ in range(iterations):\n",
    "        group1,group2 = null_hypothesis_resample(xs,ys)\n",
    "        mean_diff = abs(np.mean(group1) - np.mean(group2))\n",
    "        diff.append(mean_diff)\n",
    "    occurence = len([x for x in diff if x>=mean])\n",
    "    return occurence/iterations\n",
    "\n",
    "x1 = df[df['birthord']==1]['prglngth']\n",
    "x2 = df[df['birthord']!=1]['prglngth']\n",
    "\n",
    "p_value_resample(x1,x2),p_value(x1,x2)"
   ]
  },
  {
   "cell_type": "code",
   "execution_count": 28,
   "metadata": {},
   "outputs": [
    {
     "data": {
      "text/plain": [
       "(0.0, 0.0)"
      ]
     },
     "execution_count": 28,
     "metadata": {},
     "output_type": "execute_result"
    }
   ],
   "source": [
    "y1 = df[df['birthord']==1]['totalwgt_lb']\n",
    "y2 = df[df['birthord']!=1]['totalwgt_lb']\n",
    "p_value_resample(y1,y2),p_value(y1,y2)"
   ]
  },
  {
   "cell_type": "markdown",
   "metadata": {},
   "source": [
    "As we can see there is no significant difference between the two null hypothesis model.\n",
    "\n",
    "however, different models can yield very different results"
   ]
  },
  {
   "cell_type": "code",
   "execution_count": null,
   "metadata": {},
   "outputs": [],
   "source": []
  }
 ],
 "metadata": {
  "kernelspec": {
   "display_name": "Python 3",
   "language": "python",
   "name": "python3"
  },
  "language_info": {
   "codemirror_mode": {
    "name": "ipython",
    "version": 3
   },
   "file_extension": ".py",
   "mimetype": "text/x-python",
   "name": "python",
   "nbconvert_exporter": "python",
   "pygments_lexer": "ipython3",
   "version": "3.6.4"
  }
 },
 "nbformat": 4,
 "nbformat_minor": 2
}
