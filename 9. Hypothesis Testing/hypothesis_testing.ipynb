{
 "cells": [
  {
   "cell_type": "code",
   "execution_count": 1,
   "metadata": {},
   "outputs": [],
   "source": [
    "import numpy as np\n",
    "import pandas as pd\n",
    "import matplotlib.pyplot as plt\n",
    "import os\n",
    "import scipy.stats as stats"
   ]
  },
  {
   "cell_type": "markdown",
   "metadata": {},
   "source": [
    "9.1 Classical hypothesis testing\n",
    "---\n",
    "\n",
    "The fundamental question we want to address is whether the effects we see\n",
    "in a sample are likely to appear in the larger population. For example, in the\n",
    "NSFG sample we see a difference in mean pregnancy length for first babies\n",
    "and others. **We would like to know if that effect reflects a real difference for\n",
    "women in the U.S., or if it might appear in the sample by chance**.\n",
    "\n",
    "There are several ways we could formulate this question, including Fisher\n",
    "null hypothesis testing, Neyman-Pearson decision theory, and Bayesian inference.\n",
    "\n",
    "steps for classical hypothesis testing - \n",
    "\n",
    "- The first step is to quantify the size of the apparent effect by choosing a\n",
    "test statistic. In the NSFG example, the apparent effect is a difference\n",
    "in pregnancy length between first babies and others, so a natural choice\n",
    "for the test statistic is the difference in means between the two groups.\n",
    "\n",
    "- The second step is to define a null hypothesis, which is a model of the\n",
    "system based on the assumption that the apparent effect is not real.\n",
    "In the NSFG example the null hypothesis is that there is no difference\n",
    "between first babies and others; that is, that pregnancy lengths for\n",
    "both groups have the same distribution.\n",
    "\n",
    "- The third step is to compute a p-value, which is the probability of\n",
    "seeing the apparent effect if the null hypothesis is true. In the NSFG\n",
    "example, we would compute the actual difference in means, then compute the probability of seeing a difference as big, or bigger, under the\n",
    "null hypothesis.\n",
    "\n",
    "- The last step is to interpret the result. If the p-value is low, the effect\n",
    "is said to be statistically significant, which means that it is unlikely\n",
    "to have occurred by chance. In that case we infer that the effect is\n",
    "more likely to appear in the larger population."
   ]
  },
  {
   "cell_type": "markdown",
   "metadata": {},
   "source": [
    "9.2 Hypothesis test\n",
    "----\n",
    "\n",
    "example- \n",
    "\n",
    "suppose we toss a coin 250 times and see 140 heads\n",
    "and 110 tails. Based on this result, we might suspect that the coin is biased;\n",
    "that is, more likely to land heads. To test this hypothesis, we compute the\n",
    "probability of seeing such a difference if the coin is actually fair"
   ]
  },
  {
   "cell_type": "code",
   "execution_count": 2,
   "metadata": {},
   "outputs": [
    {
     "data": {
      "text/plain": [
       "6"
      ]
     },
     "execution_count": 2,
     "metadata": {},
     "output_type": "execute_result"
    }
   ],
   "source": [
    "import random\n",
    "def coin_toss(n):\n",
    "    outcomes = []\n",
    "    for _ in range(n):\n",
    "        value = random.randint(0,1)\n",
    "        outcomes.append(value)\n",
    "    no_of_heads = len([x for x in outcomes if x==1])\n",
    "    return abs((n-no_of_heads)-(no_of_heads))\n",
    "\n",
    "coin_toss(100)"
   ]
  },
  {
   "cell_type": "code",
   "execution_count": 3,
   "metadata": {},
   "outputs": [
    {
     "data": {
      "text/plain": [
       "(array([249., 267., 209.,  94.,  90.,  41.,  22.,  20.,   2.,   6.]),\n",
       " array([ 0. ,  5.4, 10.8, 16.2, 21.6, 27. , 32.4, 37.8, 43.2, 48.6, 54. ]),\n",
       " <a list of 10 Patch objects>)"
      ]
     },
     "execution_count": 3,
     "metadata": {},
     "output_type": "execute_result"
    },
    {
     "data": {
      "image/png": "[encoded data removed]",
      "text/plain": [
       "<matplotlib.figure.Figure at 0x108b2c978>"
      ]
     },
     "metadata": {},
     "output_type": "display_data"
    }
   ],
   "source": [
    "# simulation of 250 coins for 1000 times and plotting the distribution of difference between heads and tails\n",
    "diff = []\n",
    "for _ in range(1000):\n",
    "    diff.append(coin_toss(250))\n",
    "\n",
    "plt.hist(diff)"
   ]
  },
  {
   "cell_type": "markdown",
   "metadata": {},
   "source": [
    "given a coin with 140 heads and 110 tails the probability of getting the difference of more than 30 - "
   ]
  },
  {
   "cell_type": "code",
   "execution_count": 4,
   "metadata": {},
   "outputs": [
    {
     "data": {
      "text/plain": [
       "0.063"
      ]
     },
     "execution_count": 4,
     "metadata": {},
     "output_type": "execute_result"
    }
   ],
   "source": [
    "def p_value(n,iterations=1000):\n",
    "    diff = []\n",
    "    for _ in range(iterations):\n",
    "        diff.append(coin_toss(n))\n",
    "    occurence = len([x for x in diff if x>=30])\n",
    "    return occurence/iterations\n",
    "\n",
    "p_value(250)"
   ]
  },
  {
   "cell_type": "markdown",
   "metadata": {},
   "source": [
    "the probability shows a value more than significant level i.e. 5%.\n",
    "Hence we conclude that this difference is not significant. Hence the coin is unbiased.\n",
    "\n",
    "But the choice of 5% is arbitrary, and (as we will see later) the p-value depends on the choice of the test statistics and the model of the null hypothesis.\n",
    "So p-values should not be considered precise measurements\n",
    "\n",
    "I recommend interpreting p-values according to their order of magnitude: if\n",
    "the p-value is less than 1%, the effect is unlikely to be due to chance; if it is\n",
    "greater than 10%, the effect can plausibly be explained by chance. P-values\n",
    "between 1% and 10% should be considered borderline. So in this example I\n",
    "conclude that the data do not provide strong evidence that the coin is biased\n",
    "or not"
   ]
  },
  {
   "cell_type": "markdown",
   "metadata": {},
   "source": [
    "9.3 Testing a mean difference\n",
    "----\n",
    "\n",
    "One of the most common effects to test is a difference in mean between two\n",
    "groups. In the NSFG data, we saw that the mean pregnancy length for first\n",
    "babies is slightly longer, and the mean birth weight is slightly smaller. Now\n",
    "we will see if those effects are statistically significant.\n",
    "\n",
    " the null hypothesis is that the distributions for the two\n",
    "groups are the same.\n",
    "\n",
    "One way to model the null hypothesis is by permutation; \n",
    "- that is, we can take values for first babies and others and shuffle them,\n",
    "- treating the two groups as one big group."
   ]
  },
  {
   "cell_type": "code",
   "execution_count": 5,
   "metadata": {},
   "outputs": [],
   "source": [
    "def nullHypothesis(series1,series2):\n",
    "    pooled = np.hstack((series1,series2))\n",
    "    np.random.shuffle(pooled)\n",
    "    return pooled[:len(series1)],pooled[len(series1):]"
   ]
  },
  {
   "cell_type": "code",
   "execution_count": 6,
   "metadata": {},
   "outputs": [],
   "source": [
    "# import the data\n",
    "os.chdir(os.path.join('..','data'))\n",
    "df = pd.read_csv(r'2002FemPreg.csv',low_memory=False)\n",
    "df = df[['caseid','prglngth','outcome','pregordr','birthord','totalwgt_lb','agepreg','finalwgt']]\n",
    "df = df[df['outcome']==1]\n",
    "df = df.dropna()"
   ]
  },
  {
   "cell_type": "code",
   "execution_count": 26,
   "metadata": {},
   "outputs": [
    {
     "data": {
      "text/plain": [
       "(array([39, 39, 32, ..., 44, 37, 35]), array([39, 39, 39, ..., 39, 39, 39]))"
      ]
     },
     "execution_count": 26,
     "metadata": {},
     "output_type": "execute_result"
    }
   ],
   "source": [
    "first_babies = df[df['birthord']==1]['prglngth']\n",
    "other_babies = df[df['birthord']!=1]['prglngth']\n",
    "nullHypothesis(first_babies,other_babies)"
   ]
  },
  {
   "cell_type": "code",
   "execution_count": 27,
   "metadata": {},
   "outputs": [
    {
     "name": "stdout",
     "output_type": "stream",
     "text": [
      "which means that we expect to see a difference\n",
      "as big as the observed effect about 0.164 of the time. So this effect is not\n",
      "statistically significant.\n"
     ]
    }
   ],
   "source": [
    "# now compute the p-value\n",
    "def p_value(xs,ys,mean,iterations=1000):\n",
    "    diff = []\n",
    "    for _ in range(iterations):\n",
    "        group1,group2= nullHypothesis(xs,ys)\n",
    "        mean_diff = abs(np.mean(group1) - np.mean(group2))\n",
    "        diff.append(mean_diff)\n",
    "    occurence = len([x for x in diff if x>=mean])\n",
    "    return occurence/iterations\n",
    "\n",
    "sample_mean_diff = abs(np.mean(first_babies) - np.mean(other_babies)) \n",
    "\n",
    "conclusion = '''which means that we expect to see a difference\n",
    "as big as the observed effect about '''+str(p_value(first_babies,other_babies,sample_mean_diff))+''' of the time. So this effect is not\n",
    "statistically significant.'''\n",
    "\n",
    "print(conclusion)"
   ]
  },
  {
   "cell_type": "markdown",
   "metadata": {},
   "source": [
    "from the simulations we can see that the difference is not very significant. Hence accept the null hypothesis.Saying that the difference might have occured by chance or in other words this difference doesnot belong to any new distribution.\n",
    "\n",
    "If we run the same analysis with birth weight, the computed p-value is 0; after\n",
    "1000 attempts, the simulation never yields an effect as big as the observed\n",
    "difference, 0.12 lbs. So we would report p < 0:001, and conclude that the\n",
    "difference in birth weight is statistically significant"
   ]
  },
  {
   "cell_type": "markdown",
   "metadata": {},
   "source": [
    "9.4 Other test statistics\n",
    "----\n",
    "\n",
    "Choosing the best test statistic depends on what question you are trying to\n",
    "address. For example, if the relevant question is whether pregnancy lengths\n",
    "are different for first babies, then it makes sense to test the absolute difference\n",
    "in means, as we did in the previous section.\n",
    "If we had some reason to think that first babies are likely to be late, then\n",
    "we would not take the absolute value of the difference; instead we would use\n",
    "this test statistic:"
   ]
  },
  {
   "cell_type": "code",
   "execution_count": 9,
   "metadata": {},
   "outputs": [
    {
     "name": "stdout",
     "output_type": "stream",
     "text": [
      "which means that we expect to see a difference\n",
      "as big as the observed effect about **0.101** of the time. So this effect is not\n",
      "statistically significant.\n"
     ]
    }
   ],
   "source": [
    "def p_value_one_sided(mean,iterations=1000):\n",
    "    diff = []\n",
    "    for _ in range(iterations):\n",
    "        group1,group2= nullHypothesis(first_babies,other_babies)\n",
    "        mean_diff = np.mean(group1) - np.mean(group2)\n",
    "        diff.append(mean_diff)\n",
    "    occurence = len([x for x in diff if x>=mean])\n",
    "    return occurence/iterations\n",
    "\n",
    "mean=abs(np.mean(first_babies) - np.mean(other_babies))\n",
    "\n",
    "conclusion = '''which means that we expect to see a difference\n",
    "as big as the observed effect about **'''+str(p_value_one_sided(mean))+'''** of the time. So this effect is not\n",
    "statistically significant.'''\n",
    "\n",
    "print(conclusion)"
   ]
  },
  {
   "cell_type": "markdown",
   "metadata": {},
   "source": [
    "The one-sided hypothesis, that first babies are born late, is more specific\n",
    "than the two-sided hypothesis, so the p-value is smaller. But even for the\n",
    "stronger hypothesis, the difference is not statistically significant."
   ]
  },
  {
   "cell_type": "code",
   "execution_count": 10,
   "metadata": {},
   "outputs": [
    {
     "name": "stdout",
     "output_type": "stream",
     "text": [
      "which means that we expect to see a difference\n",
      "as big as the observed effect about **0.046** of the time. So this effect is not\n",
      "statistically significant.\n"
     ]
    }
   ],
   "source": [
    "def p_value_std(std,iterations=1000):\n",
    "    diff = []\n",
    "    for _ in range(iterations):\n",
    "        group1,group2= nullHypothesis(first_babies,other_babies)\n",
    "        std_diff = np.std(group1) - np.std(group2)\n",
    "        diff.append(std_diff)\n",
    "    occurence = len([x for x in diff if x>=std])\n",
    "    return occurence/iterations\n",
    "\n",
    "std=abs(np.std(first_babies) - np.std(other_babies))\n",
    "\n",
    "conclusion = '''which means that we expect to see a difference\n",
    "as big as the observed effect about **'''+str(p_value_std(std))+'''** of the time. So this effect is not\n",
    "statistically significant.'''\n",
    "\n",
    "print(conclusion)"
   ]
  },
  {
   "cell_type": "markdown",
   "metadata": {},
   "source": [
    "9.5 Testing Correlations\n",
    "---\n",
    "\n",
    "the correlation between birth weight and mother’s age is about 0.07. It\n",
    "seems like older mothers have heavier babies. But could this effect be due to\n",
    "chance?"
   ]
  },
  {
   "cell_type": "code",
   "execution_count": 11,
   "metadata": {},
   "outputs": [],
   "source": [
    "def pearson_coeff (x,y):\n",
    "    x = np.asarray(x)\n",
    "    y = np.asarray(y)\n",
    "    \n",
    "    xmean = np.mean(x)\n",
    "    ymean = np.mean(y)\n",
    "    std_x = np.std(x)\n",
    "    std_y = np.std(y)\n",
    "    \n",
    "    xi = [(val-xmean)/std_x for val in x] \n",
    "    yi = [(val-ymean)/std_y for val in y]\n",
    "    \n",
    "    return sum(xi*np.transpose(yi))/len(x)\n",
    "\n",
    "def spearman_coeff(x_series,y_series):\n",
    "    rank1 = x_series.rank()\n",
    "    rank2 = y_series.rank()\n",
    "    return pearson_coeff(rank1,rank2)"
   ]
  },
  {
   "cell_type": "code",
   "execution_count": 12,
   "metadata": {},
   "outputs": [
    {
     "data": {
      "text/plain": [
       "<matplotlib.collections.PathCollection at 0x1a16b59f28>"
      ]
     },
     "execution_count": 12,
     "metadata": {},
     "output_type": "execute_result"
    },
    {
     "data": {
      "image/png": "[encoded data removed]",
      "text/plain": [
       "<matplotlib.figure.Figure at 0x111c1fc18>"
      ]
     },
     "metadata": {},
     "output_type": "display_data"
    }
   ],
   "source": [
    "# variables\n",
    "mothers_age = df['agepreg']\n",
    "birth_wgt = df['totalwgt_lb']\n",
    "\n",
    "plt.scatter(mothers_age,birth_wgt)"
   ]
  },
  {
   "cell_type": "code",
   "execution_count": 13,
   "metadata": {},
   "outputs": [
    {
     "data": {
      "text/plain": [
       "0.0"
      ]
     },
     "execution_count": 13,
     "metadata": {},
     "output_type": "execute_result"
    }
   ],
   "source": [
    "def p_value_corr(xs,ys,iters=1000):\n",
    "    given_corr = pearson_coeff(xs,ys)\n",
    "    coeffs = []\n",
    "    for _ in range(iters):\n",
    "        xs = np.random.permutation(xs)\n",
    "        coeffs.append(abs(pearson_coeff(xs,ys)))\n",
    "    \n",
    "    return len([c for c in coeffs if c>=given_corr])/iters\n",
    "\n",
    "p_value_corr(mothers_age.values,birth_wgt.values)       "
   ]
  },
  {
   "cell_type": "code",
   "execution_count": 14,
   "metadata": {},
   "outputs": [
    {
     "data": {
      "text/plain": [
       "array([7, 3, 1, 4, 8, 5, 6, 2])"
      ]
     },
     "execution_count": 14,
     "metadata": {},
     "output_type": "execute_result"
    }
   ],
   "source": [
    "np.random.permutation([1,2,3,4,5,6,7,8])"
   ]
  },
  {
   "cell_type": "markdown",
   "metadata": {},
   "source": [
    "The actual correlation is 0.07. The computed p-value is 0; after 1000 iterations the largest simulated correlation is 0.04. So although the observed\n",
    "correlation is small, it is statistically significant.\n",
    "\n",
    "This example is a reminder that statistically significant\" does not always\n",
    "mean that an effect is important, or significant in practice. It only means\n",
    "that it is unlikely to have occurred by chance."
   ]
  },
  {
   "cell_type": "markdown",
   "metadata": {},
   "source": [
    "9.6 Testing Propotions\n",
    "----"
   ]
  },
  {
   "cell_type": "code",
   "execution_count": 15,
   "metadata": {},
   "outputs": [
    {
     "data": {
      "text/plain": [
       "8"
      ]
     },
     "execution_count": 15,
     "metadata": {},
     "output_type": "execute_result"
    }
   ],
   "source": [
    "import collections\n",
    "\n",
    "def test_statistics(values):\n",
    "    n = sum(values)\n",
    "    fair_dice = np.ones(6,dtype=int)*(1/6*n)\n",
    "    v = []\n",
    "    for _ in range(n):\n",
    "        v.append(np.random.randint(1,7))\n",
    "    return sum(abs(np.array(list(collections.Counter(v).values())-fair_dice,dtype=int)))\n",
    "\n",
    "values = [8,9,19,5,8,11]\n",
    "test_statistics(values)"
   ]
  },
  {
   "cell_type": "code",
   "execution_count": 16,
   "metadata": {},
   "outputs": [
    {
     "data": {
      "text/plain": [
       "0.128"
      ]
     },
     "execution_count": 16,
     "metadata": {},
     "output_type": "execute_result"
    }
   ],
   "source": [
    "def dice_simulation(values,iters=1000):\n",
    "    values = np.array(values)\n",
    "    sum_diff =  sum(abs(values-np.ones(6)*(1/6*sum(values))))\n",
    "    tests = []\n",
    "    for _ in range(iters):\n",
    "        tests.append(test_statistics(values))\n",
    "    return len([x for x in tests if x >= sum_diff])/iters\n",
    "    \n",
    "dice_simulation(values)      "
   ]
  },
  {
   "cell_type": "markdown",
   "metadata": {},
   "source": [
    "The p-value for this data is 0.13, which means that if the die is fair we expect\n",
    "to see the observed total deviation, or more, about 13% of the time. So the\n",
    "apparent effect is not statistically significant"
   ]
  },
  {
   "attachments": {
    "image.png": {
     "image/png": "[encoded data removed]"
    }
   },
   "cell_type": "markdown",
   "metadata": {},
   "source": [
    "9.7 Chi-square test\n",
    "----\n",
    "\n",
    "In the previous section we used total deviation as the test statistic. But for\n",
    "testing proportions it is more common to use the chi-squared statistic:\n",
    "\n",
    "![image.png](attachment:image.png)\n",
    "\n",
    "Where Oi are the observed frequencies and Ei are the expected frequencies.\n",
    "\n",
    "Squaring the deviations (rather than taking absolute values) gives more\n",
    "weight to large deviations. Dividing through by expected standardizes the\n",
    "deviations"
   ]
  },
  {
   "cell_type": "code",
   "execution_count": 17,
   "metadata": {},
   "outputs": [
    {
     "data": {
      "text/plain": [
       "0.04"
      ]
     },
     "execution_count": 17,
     "metadata": {},
     "output_type": "execute_result"
    }
   ],
   "source": [
    "def chi_square_test_dice(values):\n",
    "    n = sum(values)\n",
    "    expected = np.ones(6,dtype=int)*(1/6*n)\n",
    "    v = []\n",
    "    for _ in range(n):\n",
    "        v.append(np.random.randint(1,7))\n",
    "    \n",
    "    observed = np.array(list(collections.Counter(v).values()))\n",
    "    chi_square = sum(((observed-expected)**2)/expected)\n",
    "    return chi_square\n",
    "\n",
    "def chi_square_test(observed,expected):\n",
    "    return sum(((observed-expected)**2)/expected)\n",
    "\n",
    "def chi_square_simulation(observed,expected,iters=1000):\n",
    "    values = np.array(observed)\n",
    "    sum_diff =  chi_square_test(observed,expected)\n",
    "    tests = []\n",
    "    for _ in range(iters):\n",
    "        tests.append(chi_square_test_dice(values))\n",
    "    return len([x for x in tests if x >= sum_diff])/iters\n",
    "\n",
    "observed = [8,9,19,5,8,11] \n",
    "n = sum(observed)\n",
    "expected = np.ones(6)*n/6\n",
    "\n",
    "chi_square_simulation(observed,expected)"
   ]
  },
  {
   "cell_type": "markdown",
   "metadata": {},
   "source": [
    "The p-value using the chi-squared statistic is 0.04, substantially smaller than\n",
    "what we got using total deviation, 0.13. If we take the 5% threshold seriously,\n",
    "we would consider this effect statistically significant. But considering the two\n",
    "tests togther, I would say that the results are borderline. I would not rule out\n",
    "the possibility that the die is crooked, but I would not convict the accused\n",
    "cheater\n",
    "\n",
    "This example demonstrates an important point: \n",
    "\n",
    "**the p-value depends on the\n",
    "choice of test statistic and the model of the null hypothesis, and sometimes\n",
    "these choices determine whether an effect is statistically significant or not**.\n",
    "\n",
    "9.8 First Babies\n",
    "-----\n",
    "\n",
    "To see whether the differences between pregnancy length of both groups of babies are statistically\n",
    "significant, we can use a test based on a chi-squared statistic"
   ]
  },
  {
   "cell_type": "code",
   "execution_count": 18,
   "metadata": {},
   "outputs": [],
   "source": [
    "import collections\n",
    "def calculate_freq(values):\n",
    "    pmf = collections.Counter(values)\n",
    "    return np.array([x for x in pmf.values()])"
   ]
  },
  {
   "cell_type": "code",
   "execution_count": 19,
   "metadata": {},
   "outputs": [],
   "source": [
    "def null_hypothesis_prglength(series1,series2):\n",
    "    data = np.hstack((series1,series2))\n",
    "    np.random.shuffle(data)\n",
    "    first,others = data[0:len(series1)],data[len(series1):]\n",
    "    return first,others\n",
    "\n",
    "def chi_squared_test(xs):\n",
    "    # expected\n",
    "    observed = calculate_freq(xs)\n",
    "    n = len(observed) # number of possible outcomes\n",
    "    expected = np.ones(n)/n*len(xs)\n",
    "    return sum(((observed-expected)**2)/expected)\n",
    "\n",
    "def test_statistics(first,others):\n",
    "    return chi_squared_test(first)+chi_squared_test(others)"
   ]
  },
  {
   "cell_type": "code",
   "execution_count": 28,
   "metadata": {},
   "outputs": [
    {
     "data": {
      "text/plain": [
       "0.0"
      ]
     },
     "execution_count": 28,
     "metadata": {},
     "output_type": "execute_result"
    }
   ],
   "source": [
    "first_babies = [x for x in first_babies if x>=33 and x<44]\n",
    "other_babies = [x for x in other_babies if x>=33 and x<44]\n",
    "\n",
    "actual = test_statistics(first_babies,other_babies)\n",
    "actual2 = 22020\n",
    "def chi_square_simulation(test_statistic,iters=1000):\n",
    "    chi_squares = []\n",
    "    for _ in range(iters):\n",
    "        first,others = null_hypothesis_prglength(first_babies,other_babies)\n",
    "        chi_squares.append(test_statistics(first,others))\n",
    "    p_value = len([x for x in chi_squares if x>=test_statistic])/iters\n",
    "    return p_value\n",
    "# p-value\n",
    "chi_square_simulation(actual)"
   ]
  },
  {
   "cell_type": "markdown",
   "metadata": {},
   "source": [
    "We conclude that the observed chi-squared\n",
    "statistic is unlikely under the null hypothesis, so the apparent effect is statistically significant.\n",
    "\n",
    "This example demonstrates a limitation of chi-squared tests: they indicate\n",
    "that there is a difference between the two groups, but they don’t say anything\n",
    "specific about what the difference is"
   ]
  },
  {
   "cell_type": "markdown",
   "metadata": {},
   "source": [
    "9.9 Errors\n",
    "---\n",
    "\n",
    "If the effect is **actually due to chance (Null Hypothesis) -> Positive**, what is the probability that\n",
    "we will wrongly consider it significant? This probability is the false\n",
    "positive rate.\n",
    "\n",
    "if the **effect is real (There is a significant difference -> Reject the null hypothesis -> hence test is negative)**, what is the chance that the hypothesis test will fail?\n",
    "This probability is the false negative rate.\n",
    "\n",
    "In classical hypothesis testing, an effect is considered statistically significant\n",
    "if the p-value is below some threshold, commonly 5%. This procedure raises\n",
    "two questions:\n",
    "- If the effect is actually due to chance, what is the probability that\n",
    "we will wrongly consider it significant? This probability is the false\n",
    "positive rate.\n",
    "\n",
    "-  the effect is real, what is the chance that the hypothesis test will fail?\n",
    "This probability is the false negative rate.\n",
    "The false positive rate is relatively easy to compute: if the threshold is 5%,\n",
    "the false positive rate is 5%. Here’s why:\n",
    "\n",
    "- If there is no real effect, the null hypothesis is true, so we can compute\n",
    "the distribution of the test statistic by simulating the null hypothesis.\n",
    "Call this distribution CDFT.\n",
    "\n",
    "- Each time we run an experiment, we get a test statistic, t, which is\n",
    "drawn from CDFT. Then we compute a p-value, which is the probability that a random value from CDFT exceeds t, so that’s 1 − CDFT(t).\n",
    "\n",
    "- The p-value is less than 5% if CDFT(t) is greater than 95%; that is, if\n",
    "t exceeds the 95th percentile. And how often does a value chosen from\n",
    "CDFT exceed the 95th percentile? 5% of the time.\n",
    "\n",
    "So if you perform one hypothesis test with a 5% threshold, you expect a false\n",
    "positive 1 time in 20."
   ]
  },
  {
   "cell_type": "markdown",
   "metadata": {},
   "source": [
    "9.10 Powers\n",
    "----\n",
    "If the effect is real, what is the chance that the hypothesis test will fail?\n",
    "This probability is the false negative rate.\n",
    "\n",
    "**the false negative rate** is the proportion of positives which yield negative test outcomes with the test, i.e., the conditional probability of a negative test result **given that the condition being looked for is present**\n",
    "\n",
    "The false negative rate is harder to compute because it depends on the actual\n",
    "effect size, and normally we don’t know that. One option is to compute a\n",
    "**rate conditioned on a hypothetical effect size**."
   ]
  },
  {
   "cell_type": "code",
   "execution_count": 36,
   "metadata": {},
   "outputs": [
    {
     "data": {
      "text/plain": [
       "0.71"
      ]
     },
     "execution_count": 36,
     "metadata": {},
     "output_type": "execute_result"
    }
   ],
   "source": [
    "first_babies = df[df['birthord']==1]['prglngth']\n",
    "other_babies = df[df['birthord']!=1]['prglngth']\n",
    "\n",
    "def false_negative(xs,ys,n=100):\n",
    "    count = 0\n",
    "    for _ in range(n):\n",
    "        sample1 = np.random.choice(xs,replace=True,size=len(xs))\n",
    "        sample2 = np.random.choice(ys,replace=True,size=len(ys))\n",
    "        \n",
    "        mean_diff = abs(np.mean(sample1) - np.mean(sample2))\n",
    "        p = p_value(sample1,sample2,mean_diff,iterations=101)\n",
    "        if p > 0.05:  \n",
    "        #  counting number of times the occurence of negative test given that there is significant differece\n",
    "            count+=1   \n",
    "    return count/n \n",
    "false_negative(first_babies,other_babies)"
   ]
  },
  {
   "cell_type": "markdown",
   "metadata": {},
   "source": [
    "This the power of the test. It reflects the ability of the test to detect an effect. This means that around 30% of the time the test predicts the effect positively. Also known as **correct positive rate / power of the test**.\n",
    "\n",
    "*Positive* is what we expect i.e. *Null Hypothesis* and *Negative* is what we dont i.e. *Alternative Hypothesis*.\n",
    "\n",
    "As a rule of thumb, a\n",
    "**power of 80% is considered acceptable**, so we would say that this test was\n",
    "underpowered.\n",
    "\n",
    "In general a negative hypothesis test does not imply that there is no difference\n",
    "between the groups; instead it suggests that if there is a difference, it is too\n",
    "small to detect with this sample size.\n",
    "\n",
    "Power is the probability that a test correctly rejects a false null hypothesis. A good test is one with low probability of committing a Type I error (i.e., small α ) and high power (i.e., small β, high power). "
   ]
  },
  {
   "cell_type": "code",
   "execution_count": 37,
   "metadata": {},
   "outputs": [
    {
     "data": {
      "text/plain": [
       "0.07511149297508268"
      ]
     },
     "execution_count": 37,
     "metadata": {},
     "output_type": "execute_result"
    }
   ],
   "source": [
    "np.mean(first_babies) - np.mean(other_babies)"
   ]
  },
  {
   "cell_type": "markdown",
   "metadata": {},
   "source": [
    "9.11 Replication\n",
    "----\n",
    "\n",
    "\"the repetition of the set of all the treatment combinations to be compared in an experiment. Each of the repetitions is called a replicate.\"\n",
    "\n",
    "The hypothesis testing process I demonstrated in this chapter is not, strictly\n",
    "speaking, good practice.\n",
    "\n",
    "First, I performed multiple tests. If you run one hypothesis test, the chance\n",
    "of a false positive is about 1 in 20, which might be acceptable. But if you\n",
    "run 20 tests, you should expect at least one false positive, most of the time.\n",
    "\n",
    "Second, I used the same dataset for exploration and testing. If you explore a\n",
    "large dataset, find a surprising effect, and then test whether it is significant,\n",
    "you have a good chance of generating a false positive.\n",
    "\n",
    "To compensate for multiple tests, you can adjust the p-value threshold (see\n",
    "https://en.wikipedia.org/wiki/Holm-Bonferroni_method). Or you can\n",
    "address both problems by partitioning the data, using one set for exploration\n",
    "and the other for testing.\n",
    "\n",
    " Typically the first paper to report a new result is considered exploratory. Subsequent papers that replicate the result with new data are\n",
    "considered confirmatory."
   ]
  },
  {
   "cell_type": "code",
   "execution_count": null,
   "metadata": {},
   "outputs": [],
   "source": []
  }
 ],
 "metadata": {
  "kernelspec": {
   "display_name": "Python 3",
   "language": "python",
   "name": "python3"
  },
  "language_info": {
   "codemirror_mode": {
    "name": "ipython",
    "version": 3
   },
   "file_extension": ".py",
   "mimetype": "text/x-python",
   "name": "python",
   "nbconvert_exporter": "python",
   "pygments_lexer": "ipython3",
   "version": "3.6.4"
  }
 },
 "nbformat": 4,
 "nbformat_minor": 2
}
