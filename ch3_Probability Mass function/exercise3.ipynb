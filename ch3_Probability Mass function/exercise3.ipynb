{
 "cells": [
  {
   "cell_type": "code",
   "execution_count": 1,
   "metadata": {},
   "outputs": [],
   "source": [
    "import pandas as pd\n",
    "import numpy as np\n",
    "import os\n",
    "import matplotlib.pyplot as plt"
   ]
  },
  {
   "cell_type": "code",
   "execution_count": 2,
   "metadata": {},
   "outputs": [],
   "source": [
    "os.chdir(os.path.join('..','data'))\n",
    "df = pd.read_csv(r'2002FemPreg.csv',low_memory=False)\n",
    "df_live = df[df['outcome']==1]\n",
    "# removing null values\n",
    "df = df_live[df_live['totalwgt_lb'].notnull()]\n",
    "df = df[['caseid','prglngth','outcome','pregordr','birthord','totalwgt_lb','agepreg','finalwgt']]"
   ]
  },
  {
   "cell_type": "code",
   "execution_count": 3,
   "metadata": {},
   "outputs": [],
   "source": [
    "# computing the mean from pmf\n",
    "# Sum(x.Px)\n",
    "import math\n",
    "\n",
    "def calc_pmf_mean_std(key,df):\n",
    "    freq = df[key].value_counts().sort_index()\n",
    "    freq_sum = sum(freq)\n",
    "    pmf = freq/freq_sum\n",
    "    x,y = pmf.index,pmf.values\n",
    "    mean = sum(x*y)\n",
    "    std = math.sqrt(sum(y*((x-mean)**2)))\n",
    "    return mean,std\n",
    "mean,std = calc_pmf_mean_std('prglngth',df)"
   ]
  },
  {
   "cell_type": "code",
   "execution_count": 4,
   "metadata": {},
   "outputs": [
    {
     "data": {
      "text/plain": [
       "38.57059083868113"
      ]
     },
     "execution_count": 4,
     "metadata": {},
     "output_type": "execute_result"
    }
   ],
   "source": [
    "df['prglngth'].mean()"
   ]
  },
  {
   "cell_type": "code",
   "execution_count": 5,
   "metadata": {},
   "outputs": [
    {
     "data": {
      "text/plain": [
       "38.57059083868112"
      ]
     },
     "execution_count": 5,
     "metadata": {},
     "output_type": "execute_result"
    }
   ],
   "source": [
    "mean"
   ]
  },
  {
   "cell_type": "code",
   "execution_count": 6,
   "metadata": {},
   "outputs": [
    {
     "data": {
      "text/plain": [
       "2.687197732330471"
      ]
     },
     "execution_count": 6,
     "metadata": {},
     "output_type": "execute_result"
    }
   ],
   "source": [
    "df['prglngth'].std()"
   ]
  },
  {
   "cell_type": "code",
   "execution_count": 7,
   "metadata": {},
   "outputs": [
    {
     "data": {
      "text/plain": [
       "2.687049067135258"
      ]
     },
     "execution_count": 7,
     "metadata": {},
     "output_type": "execute_result"
    }
   ],
   "source": [
    "std"
   ]
  },
  {
   "cell_type": "code",
   "execution_count": 8,
   "metadata": {},
   "outputs": [],
   "source": [
    "# question 2\n",
    "# compute the difference between the pregnency length case id wise\n",
    "df  = df[df['prglngth']>37]\n",
    "# 1. first record the occurence of the caseids in terms of indices\n",
    "from collections import defaultdict\n",
    "def makeCaseIndices(df):\n",
    "    d = defaultdict(list)  # make default dict with list as values\n",
    "    for index,caseid in df['caseid'].iteritems():\n",
    "        d[caseid].append(index)\n",
    "    return d\n",
    "    \n",
    "indices = makeCaseIndices(df)\n",
    "\n",
    "def pairwise_mean(listoflist):\n",
    "    mean_list = []\n",
    "    for list1 in listoflist:\n",
    "        mean_list.append(np.mean(list1))\n",
    "    return mean_list\n",
    "\n",
    "for caseid,indices in indices.items():\n",
    "    prglens = df.loc[indices]['prglngth'].values\n",
    "    difference = []\n",
    "    if len(prglens) >= 2:\n",
    "        first = prglens[0]\n",
    "        others = prglens[1:]\n",
    "        diff = [first - x for x in others]  # list contaning pairwise difference\n",
    "        difference.extend(diff)\n"
   ]
  },
  {
   "cell_type": "code",
   "execution_count": 32,
   "metadata": {},
   "outputs": [
    {
     "data": {
      "text/plain": [
       "collections.defaultdict"
      ]
     },
     "execution_count": 32,
     "metadata": {},
     "output_type": "execute_result"
    }
   ],
   "source": [
    "type(indices)"
   ]
  },
  {
   "cell_type": "code",
   "execution_count": 51,
   "metadata": {},
   "outputs": [],
   "source": [
    "def pairwise_differences(key):\n",
    "    indices = makeCaseIndices(df)\n",
    "    differences = []\n",
    "    for caseid,index in indices.items():\n",
    "        lengths = df.loc[index][key].values\n",
    "        if len(lengths) > 1:\n",
    "            first= lengths[0]\n",
    "            others= lengths[1:]\n",
    "            diffs = first - [x for x in others]\n",
    "            \n",
    "            differences.extend(diffs)\n",
    "    return differences\n",
    "        "
   ]
  },
  {
   "cell_type": "code",
   "execution_count": 52,
   "metadata": {},
   "outputs": [
    {
     "data": {
      "text/plain": [
       "(array([1.000e+00, 0.000e+00, 0.000e+00, 0.000e+00, 1.000e+00, 0.000e+00,\n",
       "        0.000e+00, 0.000e+00, 0.000e+00, 0.000e+00, 0.000e+00, 2.000e+00,\n",
       "        0.000e+00, 1.000e+00, 0.000e+00, 7.000e+00, 0.000e+00, 2.100e+01,\n",
       "        0.000e+00, 0.000e+00, 3.000e+01, 0.000e+00, 1.480e+02, 0.000e+00,\n",
       "        2.160e+02, 0.000e+00, 2.449e+03, 0.000e+00, 2.820e+02, 0.000e+00,\n",
       "        0.000e+00, 2.500e+02, 0.000e+00, 8.800e+01, 0.000e+00, 4.100e+01,\n",
       "        0.000e+00, 1.600e+01, 0.000e+00, 5.000e+00]),\n",
       " array([-12.  , -11.55, -11.1 , -10.65, -10.2 ,  -9.75,  -9.3 ,  -8.85,\n",
       "         -8.4 ,  -7.95,  -7.5 ,  -7.05,  -6.6 ,  -6.15,  -5.7 ,  -5.25,\n",
       "         -4.8 ,  -4.35,  -3.9 ,  -3.45,  -3.  ,  -2.55,  -2.1 ,  -1.65,\n",
       "         -1.2 ,  -0.75,  -0.3 ,   0.15,   0.6 ,   1.05,   1.5 ,   1.95,\n",
       "          2.4 ,   2.85,   3.3 ,   3.75,   4.2 ,   4.65,   5.1 ,   5.55,\n",
       "          6.  ]),\n",
       " <a list of 40 Patch objects>)"
      ]
     },
     "execution_count": 52,
     "metadata": {},
     "output_type": "execute_result"
    },
    {
     "data": {
      "image/png": "[encoded data removed]",
      "text/plain": [
       "<matplotlib.figure.Figure at 0x10bd6e828>"
      ]
     },
     "metadata": {},
     "output_type": "display_data"
    }
   ],
   "source": [
    "plt.hist(pairwise_differences('prglngth'),bins=40)"
   ]
  },
  {
   "cell_type": "code",
   "execution_count": null,
   "metadata": {},
   "outputs": [],
   "source": []
  }
 ],
 "metadata": {
  "kernelspec": {
   "display_name": "Python 3",
   "language": "python",
   "name": "python3"
  },
  "language_info": {
   "codemirror_mode": {
    "name": "ipython",
    "version": 3
   },
   "file_extension": ".py",
   "mimetype": "text/x-python",
   "name": "python",
   "nbconvert_exporter": "python",
   "pygments_lexer": "ipython3",
   "version": "3.6.4"
  }
 },
 "nbformat": 4,
 "nbformat_minor": 2
}
