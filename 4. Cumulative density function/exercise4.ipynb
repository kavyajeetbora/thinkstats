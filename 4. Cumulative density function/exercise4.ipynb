{
 "cells": [
  {
   "cell_type": "code",
   "execution_count": 2,
   "metadata": {},
   "outputs": [],
   "source": [
    "import pandas as pd, numpy as np, matplotlib.pyplot as plt, os\n",
    "# CUMULATIVE DISTRIBUTION FUNCTION\n",
    "\n",
    "# import the libraries and data \n",
    "import pandas as pd, numpy as np, matplotlib.pyplot as plt, os\n",
    "os.chdir(os.path.join('data'))\n",
    "df = pd.read_csv(r'2002FemPreg.csv',low_memory=False)\n",
    "df = df[['caseid','prglngth','outcome','pregordr','birthord','totalwgt_lb','agepreg','finalwgt']]\n",
    "df_live = df[df['outcome']==1]\n",
    "# removing null values\n",
    "df = df_live[df_live['totalwgt_lb'].notnull()]"
   ]
  },
  {
   "cell_type": "code",
   "execution_count": 3,
   "metadata": {},
   "outputs": [],
   "source": [
    "first_baby = df[df['birthord'] == 1]"
   ]
  },
  {
   "cell_type": "markdown",
   "metadata": {},
   "source": [
    "ex 4.1\n",
    "-------"
   ]
  },
  {
   "cell_type": "code",
   "execution_count": 9,
   "metadata": {},
   "outputs": [
    {
     "name": "stdout",
     "output_type": "stream",
     "text": [
      "4.927801971120789  |  37.65757506303002\n"
     ]
    }
   ],
   "source": [
    "wgt1 = 4.85 # souvik da's daughter in pounds\n",
    "wgt2 = 6.8850364 # shreya's son in pounds\n",
    "\n",
    "def eval_cdf(value,series):\n",
    "    count =0\n",
    "    for x in series:\n",
    "        if x <= value:\n",
    "            count += 1\n",
    "    return count/len(series)*100\n",
    "\n",
    "souvik = eval_cdf(wgt1,first_baby['totalwgt_lb'])\n",
    "shreya = eval_cdf(wgt2,first_baby['totalwgt_lb'])\n",
    "print(souvik,' | ',shreya)"
   ]
  },
  {
   "cell_type": "markdown",
   "metadata": {},
   "source": [
    "ex 4.2\n",
    "-----------\n"
   ]
  },
  {
   "cell_type": "code",
   "execution_count": 25,
   "metadata": {},
   "outputs": [
    {
     "data": {
      "text/plain": [
       "(array([ 99.,  95., 114., 101., 106.,  96.,  85., 107.,  99.,  98.]),\n",
       " array([0.00161202, 0.1014504 , 0.20128878, 0.30112716, 0.40096553,\n",
       "        0.50080391, 0.60064229, 0.70048067, 0.80031905, 0.90015742,\n",
       "        0.9999958 ]),\n",
       " <a list of 10 Patch objects>)"
      ]
     },
     "execution_count": 25,
     "metadata": {},
     "output_type": "execute_result"
    },
    {
     "data": {
      "image/png": "[encoded data removed]",
      "text/plain": [
       "<Figure size 432x288 with 1 Axes>"
      ]
     },
     "metadata": {},
     "output_type": "display_data"
    }
   ],
   "source": [
    "# random number generation\n",
    "values = np.random.ranf(size=1000)"
   ]
  },
  {
   "cell_type": "code",
   "execution_count": 26,
   "metadata": {},
   "outputs": [],
   "source": [
    "def compute_cdf(series):\n",
    "    x = sorted(list(series))\n",
    "    y = []\n",
    "    for value in x:\n",
    "        y.append(eval_cdf(value,x))\n",
    "    return x,y"
   ]
  },
  {
   "cell_type": "code",
   "execution_count": 28,
   "metadata": {},
   "outputs": [
    {
     "data": {
      "text/plain": [
       "[<matplotlib.lines.Line2D at 0x20adb8bedd8>]"
      ]
     },
     "execution_count": 28,
     "metadata": {},
     "output_type": "execute_result"
    },
    {
     "data": {
      "image/png": "[encoded data removed]",
      "text/plain": [
       "<Figure size 432x288 with 1 Axes>"
      ]
     },
     "metadata": {},
     "output_type": "display_data"
    }
   ],
   "source": [
    "x,y = compute_cdf(values)"
   ]
  },
  {
   "cell_type": "code",
   "execution_count": 35,
   "metadata": {},
   "outputs": [
    {
     "data": {
      "text/plain": [
       "[<matplotlib.lines.Line2D at 0x20adbb25b38>]"
      ]
     },
     "execution_count": 35,
     "metadata": {},
     "output_type": "execute_result"
    },
    {
     "data": {
      "image/png": "[encoded data removed]",
      "text/plain": [
       "<Figure size 432x288 with 2 Axes>"
      ]
     },
     "metadata": {},
     "output_type": "display_data"
    }
   ],
   "source": [
    "fig, (ax1,ax2) = plt.subplots(ncols=2)\n",
    "ax1.hist(values)\n",
    "ax2.plot(x,y)"
   ]
  },
  {
   "cell_type": "markdown",
   "metadata": {},
   "source": [
    "read about random number generation from blog.demofox article"
   ]
  },
  {
   "cell_type": "code",
   "execution_count": null,
   "metadata": {},
   "outputs": [],
   "source": []
  }
 ],
 "metadata": {
  "kernelspec": {
   "display_name": "Python 3",
   "language": "python",
   "name": "python3"
  },
  "language_info": {
   "codemirror_mode": {
    "name": "ipython",
    "version": 3
   },
   "file_extension": ".py",
   "mimetype": "text/x-python",
   "name": "python",
   "nbconvert_exporter": "python",
   "pygments_lexer": "ipython3",
   "version": "3.6.5"
  }
 },
 "nbformat": 4,
 "nbformat_minor": 2
}
