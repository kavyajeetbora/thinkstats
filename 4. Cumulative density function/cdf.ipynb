{
 "cells": [
  {
   "cell_type": "code",
   "execution_count": 2,
   "metadata": {},
   "outputs": [],
   "source": [
    "# CUMULATIVE DISTRIBUTION FUNCTION\n",
    "\n",
    "# import the libraries and data \n",
    "import pandas as pd, numpy as np, matplotlib.pyplot as plt, os\n",
    "os.chdir(os.path.join('data'))\n",
    "df = pd.read_csv(r'2002FemPreg.csv',low_memory=False)\n",
    "df = df[['caseid','prglngth','outcome','pregordr','birthord','totalwgt_lb','agepreg','finalwgt']]\n",
    "df_live = df[df['outcome']==1]\n",
    "# removing null values\n",
    "df = df_live[df_live['totalwgt_lb'].notnull()]"
   ]
  },
  {
   "cell_type": "code",
   "execution_count": 3,
   "metadata": {},
   "outputs": [],
   "source": [
    "# divide the dataframe into first babies and others\n",
    "df_first_baby = df[df['birthord']==1]\n",
    "df_other_babies = df[df['birthord']!=1]"
   ]
  },
  {
   "cell_type": "code",
   "execution_count": 4,
   "metadata": {
    "scrolled": false
   },
   "outputs": [
    {
     "data": {
      "text/plain": [
       "<matplotlib.legend.Legend at 0x10ee6b9b0>"
      ]
     },
     "execution_count": 4,
     "metadata": {},
     "output_type": "execute_result"
    },
    {
     "data": {
      "image/png": "[encoded data removed]",
      "text/plain": [
       "<matplotlib.figure.Figure at 0x10acdb668>"
      ]
     },
     "metadata": {},
     "output_type": "display_data"
    }
   ],
   "source": [
    "def calc_pmf(key,df):\n",
    "    freq = df[key].value_counts().sort_index()\n",
    "    freq_sum = sum(freq)\n",
    "    pmf = freq/freq_sum\n",
    "    return pmf.index,pmf.values\n",
    "\n",
    "x,y = calc_pmf('totalwgt_lb',df_first_baby)\n",
    "x1,y1 = calc_pmf('totalwgt_lb',df_other_babies)\n",
    "fig,ax = plt.subplots()\n",
    "ax.bar(x,y,facecolor='None',edgecolor='blue',label='first_baby')\n",
    "ax.bar(x1,y1,facecolor='None',edgecolor='green',label='others')\n",
    "ax.legend()\n",
    "# PMFs work well if the number of values is small. But as the number of\n",
    "# values increases, the probability associated with each value gets smaller and\n",
    "# the effect of random noise increases."
   ]
  },
  {
   "cell_type": "markdown",
   "metadata": {},
   "source": [
    "But parts of this figure are hard to interpret. There are many spikes and\n",
    "valleys, and some apparent differences between the distributions. It is hard\n",
    "to tell which of these features are meaningful. Also, it is hard to see overall\n",
    "patterns; for example, which distribution do you think has the higher mean?"
   ]
  },
  {
   "cell_type": "markdown",
   "metadata": {},
   "source": [
    "These problems can be mitigated by binning the data; that is, dividing the\n",
    "range of values into non-overlapping intervals and counting the number of\n",
    "values in each bin. \n",
    "Binning can be useful, but it is tricky to get the size of\n",
    "the bins right. \n",
    "If they are big enough to smooth out noise, they might also\n",
    "smooth out useful information. \n",
    "An alternative to this is CDF - cumulative distribution function"
   ]
  },
  {
   "cell_type": "code",
   "execution_count": 5,
   "metadata": {},
   "outputs": [],
   "source": [
    "scores = [55,66,77,88,99]\n",
    "def percentile(scores,score):\n",
    "    scores = sorted(scores)\n",
    "    if score in scores:\n",
    "        return (scores.index(score)+1)/len(scores)\n",
    "    return NaN"
   ]
  },
  {
   "cell_type": "code",
   "execution_count": 6,
   "metadata": {},
   "outputs": [
    {
     "data": {
      "text/plain": [
       "0.2"
      ]
     },
     "execution_count": 6,
     "metadata": {},
     "output_type": "execute_result"
    }
   ],
   "source": [
    "percentile(scores,55)"
   ]
  },
  {
   "cell_type": "code",
   "execution_count": 7,
   "metadata": {},
   "outputs": [],
   "source": [
    "# given percentile value find the marks\n",
    "def nearest_percentile(percentile,scores):\n",
    "    scores = sorted(scores)\n",
    "    percentiles = [(i+1)/len(scores) for i in range(len(scores))]\n",
    "    scope = [s for s in scores if s < percentile]\n",
    "    return (scores.index(scope[-1])+1)/len(scores)\n",
    "    "
   ]
  },
  {
   "cell_type": "code",
   "execution_count": 8,
   "metadata": {},
   "outputs": [
    {
     "data": {
      "text/plain": [
       "0.8"
      ]
     },
     "execution_count": 8,
     "metadata": {},
     "output_type": "execute_result"
    }
   ],
   "source": [
    "nearest_percentile(89,scores)"
   ]
  },
  {
   "cell_type": "markdown",
   "metadata": {},
   "source": [
    "PercentileRank takes a value and computes its percentile rank in a set of\n",
    "values; Percentile takes a percentile rank and computes the corresponding\n",
    "value."
   ]
  },
  {
   "cell_type": "markdown",
   "metadata": {},
   "source": [
    "CUMULATIVE DENSITY FUNCTION\n",
    "-----------------------------\n",
    "The CDF is the function that maps from a value to its percentile rank.\n",
    "The CDF is a function of x, where x is any value that might appear in the\n",
    "distribution. To evaluate CDF(x) for a particular value of x, we compute\n",
    "the fraction of values in the distribution less than or equal to x."
   ]
  },
  {
   "cell_type": "code",
   "execution_count": 9,
   "metadata": {},
   "outputs": [
    {
     "name": "stdout",
     "output_type": "stream",
     "text": [
      "cdf(1)  =  0.2\n",
      "cdf(2)  =  0.6\n",
      "cdf(3)  =  0.8\n",
      "cdf(4)  =  0.8\n",
      "cdf(5)  =  1.0\n"
     ]
    }
   ],
   "source": [
    "# count the fraction of values less than a particular values\n",
    "\n",
    "def eval_cdf(value,series):\n",
    "    count =0\n",
    "    for x in series:\n",
    "        if x <= value:\n",
    "            count += 1\n",
    "    return count/len(series)\n",
    "\n",
    "values = [1,2,2,3,5]\n",
    "query = [1,2,3,4,5]\n",
    "for v in query:\n",
    "    print('cdf('+str(v)+')',' = ',eval_cdf(v,values))"
   ]
  },
  {
   "cell_type": "markdown",
   "metadata": {},
   "source": [
    "We can evaluate the CDF for any value of x, not just values that appear in\n",
    "the sample. If x is less than the smallest value in the sample, CDF(x) is 0."
   ]
  },
  {
   "cell_type": "code",
   "execution_count": 10,
   "metadata": {},
   "outputs": [
    {
     "data": {
      "text/plain": [
       "[<matplotlib.lines.Line2D at 0x1103e3b70>]"
      ]
     },
     "execution_count": 10,
     "metadata": {},
     "output_type": "execute_result"
    },
    {
     "data": {
      "image/png": "[encoded data removed]",
      "text/plain": [
       "<matplotlib.figure.Figure at 0x1100d1ef0>"
      ]
     },
     "metadata": {},
     "output_type": "display_data"
    }
   ],
   "source": [
    "plt.step(query, [eval_cdf(y,query) for y in query])"
   ]
  },
  {
   "cell_type": "code",
   "execution_count": 11,
   "metadata": {},
   "outputs": [
    {
     "data": {
      "text/plain": [
       "array([39, 39, 39, ..., 39, 39, 39])"
      ]
     },
     "execution_count": 11,
     "metadata": {},
     "output_type": "execute_result"
    }
   ],
   "source": [
    "df['prglngth'].values"
   ]
  },
  {
   "cell_type": "code",
   "execution_count": 12,
   "metadata": {},
   "outputs": [],
   "source": [
    "def compute_cdf(df,label):\n",
    "    x = sorted(list(df[label].values))\n",
    "    y = []\n",
    "    for value in x:\n",
    "        y.append(eval_cdf(value,x))\n",
    "    return x,y"
   ]
  },
  {
   "cell_type": "code",
   "execution_count": 13,
   "metadata": {},
   "outputs": [
    {
     "data": {
      "text/plain": [
       "<matplotlib.legend.Legend at 0x1103e81d0>"
      ]
     },
     "execution_count": 13,
     "metadata": {},
     "output_type": "execute_result"
    },
    {
     "data": {
      "image/png": "[encoded data removed]",
      "text/plain": [
       "<matplotlib.figure.Figure at 0x1103e8160>"
      ]
     },
     "metadata": {},
     "output_type": "display_data"
    }
   ],
   "source": [
    "fig,ax=plt.subplots()\n",
    "x,y = compute_cdf(df,'prglngth')\n",
    "ax.plot(x,y,label='preg length')\n",
    "ax.legend()"
   ]
  },
  {
   "cell_type": "markdown",
   "metadata": {},
   "source": [
    "One way to read a CDF is to look up percentiles.\n",
    "For example, it looks like about 10% of pregnancies are shorter than 36 weeks,\n",
    "and about 90% are shorter than 41 weeks. The CDF also provides a visual\n",
    "representation of the shape of the distribution. Common values appear as\n",
    "steep or vertical sections of the CDF; in this example, the mode at 39 weeks\n",
    "is apparent. There are few values below 30 weeks, so the CDF in this range\n",
    "is flat"
   ]
  },
  {
   "cell_type": "code",
   "execution_count": 14,
   "metadata": {},
   "outputs": [
    {
     "data": {
      "text/plain": [
       "Text(0,0.5,'CDF')"
      ]
     },
     "execution_count": 14,
     "metadata": {},
     "output_type": "execute_result"
    },
    {
     "data": {
      "image/png": "[encoded data removed]",
      "text/plain": [
       "<matplotlib.figure.Figure at 0x110432080>"
      ]
     },
     "metadata": {},
     "output_type": "display_data"
    }
   ],
   "source": [
    "x,y = compute_cdf(df_first_baby,'totalwgt_lb')\n",
    "x1,y1 = compute_cdf(df_other_babies,'totalwgt_lb')\n",
    "fig,ax = plt.subplots()\n",
    "ax.plot(x,y,label='first baby')\n",
    "ax.plot(x1,y1,label='other babies')\n",
    "ax.legend()\n",
    "ax.set_xlabel('Weight in Lbs')\n",
    "ax.set_ylabel('CDF')"
   ]
  },
  {
   "cell_type": "markdown",
   "metadata": {},
   "source": [
    "Compared to First Figure (pmf), this figure makes the shape of the distributions, and the differences between them, much clearer.\n",
    "We can see that first babies are slightly lighter throughout the distribution,\n",
    "with a larger discrepancy above the mean"
   ]
  },
  {
   "cell_type": "markdown",
   "metadata": {},
   "source": [
    "Compute the percentile rank\n",
    "---------------------------\n",
    "Once you have computed a CDF, it is easy to compute percentiles and percentile ranks. \n",
    "\n",
    "The Cdf class provides these two methods:\n",
    "\n",
    "• PercentileRank(x): Given a value x, computes its percentile rank,\n",
    "100 · CDF(x).\n",
    "\n",
    "• Percentile(p): Given a percentile rank p, computes the corresponding value, x. Equivalent to Value(p/100)"
   ]
  },
  {
   "cell_type": "code",
   "execution_count": 15,
   "metadata": {},
   "outputs": [],
   "source": [
    "def percentile_rank(df,label):\n",
    "    x = sorted(list(df[label].values))\n",
    "    y = []\n",
    "    for value in x:\n",
    "        y.append(eval_cdf(value,x)*100)\n",
    "    return x,y"
   ]
  },
  {
   "cell_type": "code",
   "execution_count": 16,
   "metadata": {},
   "outputs": [
    {
     "data": {
      "text/plain": [
       "<matplotlib.legend.Legend at 0x1128e7048>"
      ]
     },
     "execution_count": 16,
     "metadata": {},
     "output_type": "execute_result"
    },
    {
     "data": {
      "image/png": "[encoded data removed]",
      "text/plain": [
       "<matplotlib.figure.Figure at 0x1127d4e80>"
      ]
     },
     "metadata": {},
     "output_type": "display_data"
    }
   ],
   "source": [
    "fig,ax=plt.subplots()\n",
    "x,y = percentile_rank(df,'prglngth')\n",
    "ax.plot(x,y,label='preg length')\n",
    "ax.plot([0,50],[50,50],label='median',linestyle=':')\n",
    "ax.set_xlabel('pregnency length')\n",
    "ax.set_ylabel('percentile rank')\n",
    "ax.legend()"
   ]
  },
  {
   "cell_type": "markdown",
   "metadata": {},
   "source": [
    "Percentile can be used to compute percentile-based summary statistics.\n",
    "For example, the 50th percentile is the value that divides the distribution in half, also known as the median. Like the mean, the median is a measure of\n",
    "the central tendency of a distribution."
   ]
  },
  {
   "cell_type": "markdown",
   "metadata": {},
   "source": [
    "random numbers\n",
    "--------------"
   ]
  },
  {
   "cell_type": "markdown",
   "metadata": {},
   "source": [
    "Suppose we choose a random sample from the population of live births and\n",
    "look up the percentile rank of their birth weights. Now suppose we compute\n",
    "the CDF of the percentile ranks\n",
    "\n",
    "Here’s how we can compute it. First, we make the Cdf of birth weights:"
   ]
  },
  {
   "cell_type": "code",
   "execution_count": 17,
   "metadata": {},
   "outputs": [],
   "source": [
    "cdf_wgt = compute_cdf(df,'totalwgt_lb')"
   ]
  },
  {
   "cell_type": "markdown",
   "metadata": {},
   "source": [
    "Then we generate a sample and compute the percentile rank of each value in\n",
    "the sample:"
   ]
  },
  {
   "cell_type": "code",
   "execution_count": 18,
   "metadata": {},
   "outputs": [],
   "source": [
    "sample = np.random.choice(df['totalwgt_lb'],100,replace=True)\n",
    "rank = [eval_cdf(x,sample)*100 for x in sample]"
   ]
  },
  {
   "cell_type": "markdown",
   "metadata": {},
   "source": [
    "here sample is a random sample of 100 birth weights, chosen with replacement;\n",
    "that is, the same value could be chosen more than once. ranks is a list of\n",
    "percentile ranks."
   ]
  },
  {
   "cell_type": "code",
   "execution_count": 19,
   "metadata": {},
   "outputs": [],
   "source": [
    "def compute_cdf(series):\n",
    "    x = sorted(list(series))\n",
    "    y = []\n",
    "    for value in x:\n",
    "        y.append(eval_cdf(value,x))\n",
    "    return x,y"
   ]
  },
  {
   "cell_type": "code",
   "execution_count": 20,
   "metadata": {},
   "outputs": [],
   "source": [
    "x,y = compute_cdf(rank)"
   ]
  },
  {
   "cell_type": "code",
   "execution_count": 21,
   "metadata": {},
   "outputs": [
    {
     "data": {
      "text/plain": [
       "[<matplotlib.lines.Line2D at 0x1128c6668>]"
      ]
     },
     "execution_count": 21,
     "metadata": {},
     "output_type": "execute_result"
    },
    {
     "data": {
      "image/png": "[encoded data removed]",
      "text/plain": [
       "<matplotlib.figure.Figure at 0x11065b160>"
      ]
     },
     "metadata": {},
     "output_type": "display_data"
    }
   ],
   "source": [
    "plt.step(x,y)"
   ]
  },
  {
   "cell_type": "markdown",
   "metadata": {},
   "source": [
    "The CDF is approximately a straight line, which\n",
    "means that the distribution is uniform.\n",
    "\n",
    "What this figure shows is that 10% of the sample is below\n",
    "the 10th percentile, 20% is below the 20th percentile, and so on, exactly as\n",
    "we should expect.\n",
    "\n",
    "So, regardless of the shape of the CDF, **the distribution of percentile ranks**\n",
    "is uniform. This property is useful, because it is the basis of a simple and\n",
    "efficient algorithm for generating random numbers with a given CDF"
   ]
  },
  {
   "cell_type": "code",
   "execution_count": null,
   "metadata": {},
   "outputs": [],
   "source": []
  }
 ],
 "metadata": {
  "kernelspec": {
   "display_name": "Python 3",
   "language": "python",
   "name": "python3"
  },
  "language_info": {
   "codemirror_mode": {
    "name": "ipython",
    "version": 3
   },
   "file_extension": ".py",
   "mimetype": "text/x-python",
   "name": "python",
   "nbconvert_exporter": "python",
   "pygments_lexer": "ipython3",
   "version": "3.6.4"
  }
 },
 "nbformat": 4,
 "nbformat_minor": 2
}
