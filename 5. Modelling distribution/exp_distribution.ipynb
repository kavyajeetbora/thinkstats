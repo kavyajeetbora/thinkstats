{
 "cells": [
  {
   "cell_type": "markdown",
   "metadata": {},
   "source": [
    "The exponential distribution\n",
    "-------------------"
   ]
  },
  {
   "cell_type": "markdown",
   "metadata": {},
   "source": [
    "CDF(x) = 1 − e−λx\n",
    "\n",
    "The parameter, λ, determines the shape of the distribution"
   ]
  },
  {
   "cell_type": "code",
   "execution_count": 1,
   "metadata": {},
   "outputs": [],
   "source": [
    "# example \n",
    "\n",
    "import numpy as np\n",
    "\n",
    "sample = sorted(np.random.random(size=20)*10)"
   ]
  },
  {
   "cell_type": "code",
   "execution_count": 2,
   "metadata": {},
   "outputs": [],
   "source": [
    "import math\n",
    "def cdf_exp(sample,lam):\n",
    "    y = []\n",
    "    for x in sample:\n",
    "        y.append(1-math.exp(-lam*x))\n",
    "    return y\n",
    "y1 = cdf_exp(sample,0.5)\n",
    "y2 = cdf_exp(sample,1)\n",
    "y3 = cdf_exp(sample,2)"
   ]
  },
  {
   "cell_type": "code",
   "execution_count": 4,
   "metadata": {},
   "outputs": [
    {
     "data": {
      "image/png": "[encoded data removed]",
      "text/plain": [
       "<Figure size 432x288 with 1 Axes>"
      ]
     },
     "metadata": {},
     "output_type": "display_data"
    }
   ],
   "source": [
    "import matplotlib.pyplot as plt\n",
    "fig,ax = plt.subplots()\n",
    "ax.plot(sample,y1,label='lambda = 0.5')\n",
    "ax.plot(sample,y2,label='lambda = 1')\n",
    "ax.plot(sample,y3,label='lambda = 2')\n",
    "ax.legend()\n",
    "plt.show()"
   ]
  },
  {
   "cell_type": "markdown",
   "metadata": {},
   "source": [
    "In the real world, exponential distributions come up when we look at a series\n",
    "of events and **measure the times between events**, called interarrival times.\n",
    "If the events are equally likely to occur at any time, **the distribution of\n",
    "interarrival times tends to look like an exponential distribution**"
   ]
  },
  {
   "cell_type": "code",
   "execution_count": 17,
   "metadata": {},
   "outputs": [],
   "source": [
    "import pandas as pd\n",
    "df = pd.read_csv('babyboom.csv')"
   ]
  },
  {
   "cell_type": "code",
   "execution_count": 18,
   "metadata": {},
   "outputs": [
    {
     "data": {
      "text/html": [
       "<div>\n",
       "<style scoped>\n",
       "    .dataframe tbody tr th:only-of-type {\n",
       "        vertical-align: middle;\n",
       "    }\n",
       "\n",
       "    .dataframe tbody tr th {\n",
       "        vertical-align: top;\n",
       "    }\n",
       "\n",
       "    .dataframe thead th {\n",
       "        text-align: right;\n",
       "    }\n",
       "</style>\n",
       "<table border=\"1\" class=\"dataframe\">\n",
       "  <thead>\n",
       "    <tr style=\"text-align: right;\">\n",
       "      <th></th>\n",
       "      <th>time</th>\n",
       "      <th>sex</th>\n",
       "      <th>wgt_gms</th>\n",
       "      <th>minutes</th>\n",
       "    </tr>\n",
       "  </thead>\n",
       "  <tbody>\n",
       "    <tr>\n",
       "      <th>0</th>\n",
       "      <td>5.0</td>\n",
       "      <td>1.0</td>\n",
       "      <td>3837.0</td>\n",
       "      <td>5.0</td>\n",
       "    </tr>\n",
       "    <tr>\n",
       "      <th>1</th>\n",
       "      <td>NaN</td>\n",
       "      <td>NaN</td>\n",
       "      <td>NaN</td>\n",
       "      <td>NaN</td>\n",
       "    </tr>\n",
       "    <tr>\n",
       "      <th>2</th>\n",
       "      <td>104.0</td>\n",
       "      <td>1.0</td>\n",
       "      <td>3334.0</td>\n",
       "      <td>64.0</td>\n",
       "    </tr>\n",
       "    <tr>\n",
       "      <th>3</th>\n",
       "      <td>NaN</td>\n",
       "      <td>NaN</td>\n",
       "      <td>NaN</td>\n",
       "      <td>NaN</td>\n",
       "    </tr>\n",
       "    <tr>\n",
       "      <th>4</th>\n",
       "      <td>118.0</td>\n",
       "      <td>2.0</td>\n",
       "      <td>3554.0</td>\n",
       "      <td>78.0</td>\n",
       "    </tr>\n",
       "  </tbody>\n",
       "</table>\n",
       "</div>"
      ],
      "text/plain": [
       "    time  sex  wgt_gms  minutes\n",
       "0    5.0  1.0   3837.0      5.0\n",
       "1    NaN  NaN      NaN      NaN\n",
       "2  104.0  1.0   3334.0     64.0\n",
       "3    NaN  NaN      NaN      NaN\n",
       "4  118.0  2.0   3554.0     78.0"
      ]
     },
     "execution_count": 18,
     "metadata": {},
     "output_type": "execute_result"
    }
   ],
   "source": [
    "df.head()"
   ]
  },
  {
   "cell_type": "code",
   "execution_count": 19,
   "metadata": {},
   "outputs": [],
   "source": [
    "df = df.dropna()"
   ]
  },
  {
   "cell_type": "code",
   "execution_count": 20,
   "metadata": {},
   "outputs": [
    {
     "data": {
      "text/html": [
       "<div>\n",
       "<style scoped>\n",
       "    .dataframe tbody tr th:only-of-type {\n",
       "        vertical-align: middle;\n",
       "    }\n",
       "\n",
       "    .dataframe tbody tr th {\n",
       "        vertical-align: top;\n",
       "    }\n",
       "\n",
       "    .dataframe thead th {\n",
       "        text-align: right;\n",
       "    }\n",
       "</style>\n",
       "<table border=\"1\" class=\"dataframe\">\n",
       "  <thead>\n",
       "    <tr style=\"text-align: right;\">\n",
       "      <th></th>\n",
       "      <th>time</th>\n",
       "      <th>sex</th>\n",
       "      <th>wgt_gms</th>\n",
       "      <th>minutes</th>\n",
       "    </tr>\n",
       "  </thead>\n",
       "  <tbody>\n",
       "    <tr>\n",
       "      <th>0</th>\n",
       "      <td>5.0</td>\n",
       "      <td>1.0</td>\n",
       "      <td>3837.0</td>\n",
       "      <td>5.0</td>\n",
       "    </tr>\n",
       "    <tr>\n",
       "      <th>2</th>\n",
       "      <td>104.0</td>\n",
       "      <td>1.0</td>\n",
       "      <td>3334.0</td>\n",
       "      <td>64.0</td>\n",
       "    </tr>\n",
       "    <tr>\n",
       "      <th>4</th>\n",
       "      <td>118.0</td>\n",
       "      <td>2.0</td>\n",
       "      <td>3554.0</td>\n",
       "      <td>78.0</td>\n",
       "    </tr>\n",
       "    <tr>\n",
       "      <th>6</th>\n",
       "      <td>155.0</td>\n",
       "      <td>2.0</td>\n",
       "      <td>3838.0</td>\n",
       "      <td>115.0</td>\n",
       "    </tr>\n",
       "    <tr>\n",
       "      <th>8</th>\n",
       "      <td>257.0</td>\n",
       "      <td>2.0</td>\n",
       "      <td>3625.0</td>\n",
       "      <td>177.0</td>\n",
       "    </tr>\n",
       "  </tbody>\n",
       "</table>\n",
       "</div>"
      ],
      "text/plain": [
       "    time  sex  wgt_gms  minutes\n",
       "0    5.0  1.0   3837.0      5.0\n",
       "2  104.0  1.0   3334.0     64.0\n",
       "4  118.0  2.0   3554.0     78.0\n",
       "6  155.0  2.0   3838.0    115.0\n",
       "8  257.0  2.0   3625.0    177.0"
      ]
     },
     "execution_count": 20,
     "metadata": {},
     "output_type": "execute_result"
    }
   ],
   "source": [
    "df.head()"
   ]
  },
  {
   "cell_type": "code",
   "execution_count": 21,
   "metadata": {},
   "outputs": [],
   "source": [
    "df.columns = ['time','sex','wgt_gms','minutes']"
   ]
  },
  {
   "cell_type": "code",
   "execution_count": 22,
   "metadata": {},
   "outputs": [
    {
     "data": {
      "text/plain": [
       "pandas.core.series.Series"
      ]
     },
     "execution_count": 22,
     "metadata": {},
     "output_type": "execute_result"
    }
   ],
   "source": [
    "diff = df.minutes.diff() # diff is the difference between the consecutive times\n",
    "type(diff)"
   ]
  },
  {
   "cell_type": "code",
   "execution_count": 23,
   "metadata": {},
   "outputs": [],
   "source": [
    "def eval_cdf(value,series):\n",
    "    count =0\n",
    "    for x in series:\n",
    "        if x <= value:\n",
    "            count += 1\n",
    "    return count/len(series)\n",
    "\n",
    "def compute_cdf(series):\n",
    "    x = sorted(series)\n",
    "    y = []\n",
    "    for value in x:\n",
    "        y.append(eval_cdf(value,x))\n",
    "    return x,y"
   ]
  },
  {
   "cell_type": "markdown",
   "metadata": {},
   "source": [
    "the complementary CDF, which is 1 − CDF(x), on a\n",
    "log-y scale. For data from an exponential distribution, the result is a straight\n",
    "line."
   ]
  },
  {
   "cell_type": "code",
   "execution_count": 51,
   "metadata": {},
   "outputs": [],
   "source": [
    "x,y = compute_cdf(diff)\n",
    "\n",
    "import math\n",
    "def return_ccdf(y):\n",
    "    log_y = []\n",
    "    for value in y:\n",
    "        if value>0:\n",
    "            log_y.append(math.log(1-value))\n",
    "        else:\n",
    "            log_y.append(0)\n",
    "    return log_y\n",
    "log_y = return_ccdf(y)"
   ]
  },
  {
   "cell_type": "code",
   "execution_count": 52,
   "metadata": {},
   "outputs": [
    {
     "data": {
      "text/plain": [
       "Text(0,0.5,'CCDF')"
      ]
     },
     "execution_count": 52,
     "metadata": {},
     "output_type": "execute_result"
    },
    {
     "data": {
      "image/png": "[encoded data removed]",
      "text/plain": [
       "<Figure size 1080x360 with 2 Axes>"
      ]
     },
     "metadata": {},
     "output_type": "display_data"
    }
   ],
   "source": [
    "fig,(ax1,ax2) = plt.subplots(ncols=2)\n",
    "fig.set_size_inches(15,5)\n",
    "\n",
    "ax1.step(x,y)\n",
    "ax1.set_title('Cumulative distribution plot')\n",
    "ax1.set_xlabel('minutes')\n",
    "ax1.set_ylabel('CDF')\n",
    "\n",
    "ax2.step(x,log_y)\n",
    "ax2.set_title('Complementary CDF plot')\n",
    "ax2.set_xlabel('minutes')\n",
    "ax2.set_ylabel('CCDF')\n"
   ]
  },
  {
   "cell_type": "markdown",
   "metadata": {},
   "source": [
    "The CCDF plot for exponential distribution is a straight line ->\n",
    "\n",
    "y ≈ e−λx\n",
    "\n",
    "gives\n",
    "\n",
    "log y ≈ −λx\n",
    "\n",
    "So on a log-y scale the CCDF is a straight line with slope −λ."
   ]
  },
  {
   "cell_type": "markdown",
   "metadata": {},
   "source": [
    "The parameter, λ, can be interpreted as a rate; that is, the number of events\n",
    "that occur, on average, in a unit of time. In this example, 44 babies are\n",
    "born in 24 hours, so the rate is λ = 0:0306 births per minute. The mean of\n",
    "an exponential distribution is 1/λ, so the mean time between births is 32.7\n",
    "minutes"
   ]
  },
  {
   "cell_type": "code",
   "execution_count": null,
   "metadata": {},
   "outputs": [],
   "source": []
  }
 ],
 "metadata": {
  "kernelspec": {
   "display_name": "Python 3",
   "language": "python",
   "name": "python3"
  },
  "language_info": {
   "codemirror_mode": {
    "name": "ipython",
    "version": 3
   },
   "file_extension": ".py",
   "mimetype": "text/x-python",
   "name": "python",
   "nbconvert_exporter": "python",
   "pygments_lexer": "ipython3",
   "version": "3.6.5"
  }
 },
 "nbformat": 4,
 "nbformat_minor": 2
}
