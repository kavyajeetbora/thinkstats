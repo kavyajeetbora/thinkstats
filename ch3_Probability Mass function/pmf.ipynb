{
 "cells": [
  {
   "cell_type": "code",
   "execution_count": 2,
   "metadata": {},
   "outputs": [],
   "source": [
    "import pandas as pd, numpy as np, matplotlib.pyplot as plt, os"
   ]
  },
  {
   "cell_type": "code",
   "execution_count": 3,
   "metadata": {},
   "outputs": [],
   "source": [
    "os.chdir(os.path.join('..','data'))\n",
    "df = pd.read_csv(r'2002FemPreg.csv',low_memory=False)\n",
    "df = df[['caseid','prglngth','outcome','pregordr','birthord','totalwgt_lb','agepreg','finalwgt']]\n",
    "df_live = df[df['outcome']==1]\n",
    "# removing null values\n",
    "df = df_live[df_live['totalwgt_lb'].notnull()]"
   ]
  },
  {
   "cell_type": "code",
   "execution_count": 15,
   "metadata": {},
   "outputs": [
    {
     "data": {
      "text/plain": [
       "<BarContainer object of 36 artists>"
      ]
     },
     "execution_count": 15,
     "metadata": {},
     "output_type": "execute_result"
    },
    {
     "data": {
      "image/png": "[encoded data removed]",
      "text/plain": [
       "<Figure size 432x288 with 1 Axes>"
      ]
     },
     "metadata": {},
     "output_type": "display_data"
    }
   ],
   "source": [
    "def calc_pmf(key,df):\n",
    "    freq = df[key].value_counts().sort_index()\n",
    "    freq_sum = sum(freq)\n",
    "    pmf = freq/freq_sum\n",
    "    return pmf.index,pmf.values\n",
    "\n",
    "x,y = calc_pmf('prglngth',df)\n",
    "# sum of the pmf should be 1"
   ]
  },
  {
   "cell_type": "code",
   "execution_count": 52,
   "metadata": {
    "scrolled": true
   },
   "outputs": [
    {
     "data": {
      "text/plain": [
       "<matplotlib.legend.Legend at 0x236ad25e6d8>"
      ]
     },
     "execution_count": 52,
     "metadata": {},
     "output_type": "execute_result"
    },
    {
     "data": {
      "image/png": "[encoded data removed]",
      "text/plain": [
       "<Figure size 720x360 with 2 Axes>"
      ]
     },
     "metadata": {},
     "output_type": "display_data"
    }
   ],
   "source": [
    "# we can compare two different data with different sample sizes in pmf unlike histogram plots\n",
    "df_first_child = df[df['birthord']==1]\n",
    "df_not_first_child = df[df['birthord']!=1]\n",
    "\n",
    "x1,y1 = calc_pmf('prglngth',df_first_child)\n",
    "x2,y2 = calc_pmf('prglngth',df_not_first_child)\n",
    "\n",
    "fig,(ax1,ax2) = plt.subplots(ncols=2)\n",
    "fig.set_size_inches(10,5)\n",
    "ax1.bar(x,y)\n",
    "ax2.bar(x1,y1,label='first baby',facecolor='None',edgecolor='red')\n",
    "ax2.bar(x2,y2,label='not first baby',facecolor='None',edgecolor='green')\n",
    "ax1.set_xlim(27,45)\n",
    "ax1.set_xticks(np.arange(27,45,4))\n",
    "ax2.set_xlim(27,45)\n",
    "ax2.set_xticks(np.arange(27,45,1))\n",
    "ax2.legend()"
   ]
  },
  {
   "cell_type": "code",
   "execution_count": null,
   "metadata": {},
   "outputs": [],
   "source": [
    "# to plot the difference between the plots\n",
    "# most data in concentrated near the mode\n",
    "rng = [35,44]\n",
    "\n"
   ]
  }
 ],
 "metadata": {
  "kernelspec": {
   "display_name": "Python 3",
   "language": "python",
   "name": "python3"
  },
  "language_info": {
   "codemirror_mode": {
    "name": "ipython",
    "version": 3
   },
   "file_extension": ".py",
   "mimetype": "text/x-python",
   "name": "python",
   "nbconvert_exporter": "python",
   "pygments_lexer": "ipython3",
   "version": "3.6.4"
  }
 },
 "nbformat": 4,
 "nbformat_minor": 2
}
