{
 "cells": [
  {
   "cell_type": "code",
   "execution_count": 1,
   "metadata": {},
   "outputs": [],
   "source": [
    "import numpy as np\n",
    "import pandas as pd\n",
    "import scipy.stats as stats\n",
    "import matplotlib.pyplot as plt\n",
    "import os"
   ]
  },
  {
   "cell_type": "code",
   "execution_count": 2,
   "metadata": {},
   "outputs": [],
   "source": [
    "df = pd.read_csv(os.path.join('..','data','brfss.csv'))\n",
    "df = df.dropna(subset=['htm3','wtkg2'])"
   ]
  },
  {
   "cell_type": "code",
   "execution_count": 3,
   "metadata": {},
   "outputs": [
    {
     "data": {
      "text/html": [
       "<div>\n",
       "<style scoped>\n",
       "    .dataframe tbody tr th:only-of-type {\n",
       "        vertical-align: middle;\n",
       "    }\n",
       "\n",
       "    .dataframe tbody tr th {\n",
       "        vertical-align: top;\n",
       "    }\n",
       "\n",
       "    .dataframe thead th {\n",
       "        text-align: right;\n",
       "    }\n",
       "</style>\n",
       "<table border=\"1\" class=\"dataframe\">\n",
       "  <thead>\n",
       "    <tr style=\"text-align: right;\">\n",
       "      <th></th>\n",
       "      <th>Unnamed: 0</th>\n",
       "      <th>age</th>\n",
       "      <th>sex</th>\n",
       "      <th>wtyrago</th>\n",
       "      <th>finalwt</th>\n",
       "      <th>wtkg2</th>\n",
       "      <th>htm3</th>\n",
       "    </tr>\n",
       "  </thead>\n",
       "  <tbody>\n",
       "    <tr>\n",
       "      <th>0</th>\n",
       "      <td>0</td>\n",
       "      <td>82.0</td>\n",
       "      <td>2</td>\n",
       "      <td>76.363636</td>\n",
       "      <td>185.870345</td>\n",
       "      <td>70.91</td>\n",
       "      <td>157.0</td>\n",
       "    </tr>\n",
       "    <tr>\n",
       "      <th>1</th>\n",
       "      <td>1</td>\n",
       "      <td>65.0</td>\n",
       "      <td>2</td>\n",
       "      <td>72.727273</td>\n",
       "      <td>126.603027</td>\n",
       "      <td>72.73</td>\n",
       "      <td>163.0</td>\n",
       "    </tr>\n",
       "    <tr>\n",
       "      <th>3</th>\n",
       "      <td>3</td>\n",
       "      <td>61.0</td>\n",
       "      <td>1</td>\n",
       "      <td>73.636364</td>\n",
       "      <td>517.926275</td>\n",
       "      <td>73.64</td>\n",
       "      <td>170.0</td>\n",
       "    </tr>\n",
       "    <tr>\n",
       "      <th>4</th>\n",
       "      <td>4</td>\n",
       "      <td>26.0</td>\n",
       "      <td>1</td>\n",
       "      <td>88.636364</td>\n",
       "      <td>1252.624630</td>\n",
       "      <td>88.64</td>\n",
       "      <td>185.0</td>\n",
       "    </tr>\n",
       "    <tr>\n",
       "      <th>5</th>\n",
       "      <td>5</td>\n",
       "      <td>42.0</td>\n",
       "      <td>1</td>\n",
       "      <td>118.181818</td>\n",
       "      <td>415.161314</td>\n",
       "      <td>109.09</td>\n",
       "      <td>183.0</td>\n",
       "    </tr>\n",
       "  </tbody>\n",
       "</table>\n",
       "</div>"
      ],
      "text/plain": [
       "   Unnamed: 0   age  sex     wtyrago      finalwt   wtkg2   htm3\n",
       "0           0  82.0    2   76.363636   185.870345   70.91  157.0\n",
       "1           1  65.0    2   72.727273   126.603027   72.73  163.0\n",
       "3           3  61.0    1   73.636364   517.926275   73.64  170.0\n",
       "4           4  26.0    1   88.636364  1252.624630   88.64  185.0\n",
       "5           5  42.0    1  118.181818   415.161314  109.09  183.0"
      ]
     },
     "execution_count": 3,
     "metadata": {},
     "output_type": "execute_result"
    }
   ],
   "source": [
    "df.head()"
   ]
  },
  {
   "cell_type": "code",
   "execution_count": 4,
   "metadata": {},
   "outputs": [],
   "source": [
    "def pearson_coeff(x,y):\n",
    "    x = np.asarray(x)\n",
    "    y = np.asarray(y)\n",
    "    \n",
    "    xmean = np.mean(x)\n",
    "    ymean = np.mean(y)\n",
    "    std_x = np.std(x)\n",
    "    std_y = np.std(y)\n",
    "    \n",
    "    xi = [(val-xmean)/std_x for val in x] \n",
    "    yi = [(val-ymean)/std_y for val in y]\n",
    "    \n",
    "    return sum(xi*np.transpose(yi))/len(x)\n",
    "\n",
    "def leastSquares(xs,ys):\n",
    "    r = pearson_coeff(xs,ys)\n",
    "    slope = r*(np.std(ys)/np.std(xs))\n",
    "    intercept = np.mean(ys)-slope*np.mean(xs)\n",
    "    return slope,intercept\n",
    "\n",
    "def fitLine(xs,slope,intercept):\n",
    "    fit_xs = np.sort(xs)\n",
    "    fit_ys = fit_xs*slope+intercept\n",
    "    return fit_xs,fit_ys"
   ]
  },
  {
   "cell_type": "code",
   "execution_count": 5,
   "metadata": {},
   "outputs": [
    {
     "data": {
      "text/plain": [
       "Text(0.5,0,'Height')"
      ]
     },
     "execution_count": 5,
     "metadata": {},
     "output_type": "execute_result"
    },
    {
     "data": {
      "image/png": "[encoded data removed]",
      "text/plain": [
       "<matplotlib.figure.Figure at 0x1a129540f0>"
      ]
     },
     "metadata": {},
     "output_type": "display_data"
    }
   ],
   "source": [
    "hgt = df['htm3']\n",
    "log_wgt = np.log10(df['wtkg2'])\n",
    "\n",
    "slope,intercept = leastSquares(hgt,log_wgt)\n",
    "\n",
    "fit_xs,fit_ys = fitLine(hgt,slope,intercept)\n",
    "plt.plot(fit_xs,fit_ys,color='black')\n",
    "plt.scatter(hgt,log_wgt,alpha=0.1,color='pink')\n",
    "plt.ylabel('Log(weight)')\n",
    "plt.xlabel('Height')"
   ]
  },
  {
   "cell_type": "code",
   "execution_count": 6,
   "metadata": {},
   "outputs": [
    {
     "data": {
      "text/plain": [
       "(0.0058218195870721355, 0.9092247336676834)"
      ]
     },
     "execution_count": 6,
     "metadata": {},
     "output_type": "execute_result"
    }
   ],
   "source": [
    "slope,intercept"
   ]
  },
  {
   "cell_type": "code",
   "execution_count": 7,
   "metadata": {},
   "outputs": [],
   "source": [
    "def residuals(xs,ys,slope,intercept):\n",
    "    return ys-(xs*slope+intercept)\n",
    "\n",
    "def eval_cdf(value,series):\n",
    "    count =0\n",
    "    for x in series:\n",
    "        if x <= value:\n",
    "            count += 1\n",
    "    return count/len(series)\n",
    "\n",
    "def compute_cdf(series):\n",
    "    x = sorted(list(series))\n",
    "    y = []\n",
    "    for value in x:\n",
    "        y.append(eval_cdf(value,x))\n",
    "    return x,y\n",
    "\n",
    "def percentile(p,series):\n",
    "    x,y = compute_cdf(series)\n",
    "    percentiles = dict(zip(y,x))\n",
    "    seq = [percentiles.get(x) for x in percentiles.keys() if x<=p]\n",
    "    if len(seq) == 0:\n",
    "        return None\n",
    "    else:\n",
    "        return max(seq)"
   ]
  },
  {
   "cell_type": "code",
   "execution_count": 8,
   "metadata": {},
   "outputs": [
    {
     "data": {
      "text/plain": [
       "Text(0,0.5,'residual')"
      ]
     },
     "execution_count": 8,
     "metadata": {},
     "output_type": "execute_result"
    },
    {
     "data": {
      "image/png": "[encoded data removed]",
      "text/plain": [
       "<matplotlib.figure.Figure at 0x10b88f978>"
      ]
     },
     "metadata": {},
     "output_type": "display_data"
    }
   ],
   "source": [
    "df['residual'] = pd.Series(residuals(hgt,log_wgt,slope,intercept))\n",
    "\n",
    "bins = np.arange(130,210,step=5)\n",
    "indices = np.digitize(hgt,bins)\n",
    "groups = df.groupby(indices)\n",
    "\n",
    "for p in [0.25,0.50,0.75]:\n",
    "    xs = []\n",
    "    ys = [] \n",
    "    for i,group in groups:\n",
    "        res = group['residual'].values\n",
    "        height = group['htm3']\n",
    "        percent = percentile(p,res)\n",
    "        if percent!=None:\n",
    "            xs.append(np.mean(height))\n",
    "            ys.append(percent)\n",
    "\n",
    "    plt.plot(xs,ys,label=int(p*100))\n",
    "    plt.legend(title='percentile')\n",
    "plt.xlabel('height')\n",
    "plt.ylabel('residual')"
   ]
  },
  {
   "cell_type": "code",
   "execution_count": 9,
   "metadata": {},
   "outputs": [
    {
     "data": {
      "text/plain": [
       "0.5450578123262366"
      ]
     },
     "execution_count": 9,
     "metadata": {},
     "output_type": "execute_result"
    }
   ],
   "source": [
    "# pearson coefficient\n",
    "pearson_coeff(hgt,log_wgt)"
   ]
  },
  {
   "cell_type": "code",
   "execution_count": 10,
   "metadata": {},
   "outputs": [
    {
     "data": {
      "text/plain": [
       "(0.29708801877786306, 0.297088018777863)"
      ]
     },
     "execution_count": 10,
     "metadata": {},
     "output_type": "execute_result"
    }
   ],
   "source": [
    "# calculate the R-Squared of this linear fit\n",
    "r2 = np.square(pearson_coeff(hgt,log_wgt))\n",
    "\n",
    "def r_squared(ys,res):\n",
    "    return 1-np.var(res)/np.var(ys)\n",
    "\n",
    "coeff = r_squared(log_wgt,df['residual'])\n",
    "coeff,r2"
   ]
  },
  {
   "cell_type": "markdown",
   "metadata": {},
   "source": [
    "The knowing log(wgt) we can explain 30% of the variance of height"
   ]
  },
  {
   "cell_type": "markdown",
   "metadata": {},
   "source": [
    "If you were trying to guess someone’s weight, 30% of the time\n",
    "it helps to know their height"
   ]
  },
  {
   "cell_type": "code",
   "execution_count": 11,
   "metadata": {},
   "outputs": [
    {
     "data": {
      "text/plain": [
       "0.0"
      ]
     },
     "execution_count": 11,
     "metadata": {},
     "output_type": "execute_result"
    }
   ],
   "source": [
    "# slope test\n",
    "\n",
    "class SlopeTest:\n",
    "    def __init__(self,xs,ys):\n",
    "        self.xs= xs\n",
    "        self.ys=ys\n",
    "    \n",
    "    def testStatistic(self,data1,data2):\n",
    "        slope, intercept = leastSquares(data1,data2)\n",
    "        return slope\n",
    "    \n",
    "    def makeModel(self):\n",
    "        y_mean = np.mean(self.ys)\n",
    "        self.res = np.mean(self.ys)-self.ys\n",
    "        return y_mean+np.random.permutation(self.res)\n",
    "    \n",
    "    def p_value(self):\n",
    "        self.slopes = []\n",
    "        iters = 1000\n",
    "        for _ in range(iters):\n",
    "            null_hypo = self.makeModel()\n",
    "            slope = self.testStatistic(self.xs,null_hypo)\n",
    "            self.slopes.append(slope)\n",
    "        return len([x for x in self.slopes if x > self.testStatistic(self.xs,self.ys)])/iters\n",
    "    \n",
    "\n",
    "s1 = SlopeTest(hgt,log_wgt)\n",
    "s1.p_value()"
   ]
  },
  {
   "cell_type": "markdown",
   "metadata": {},
   "source": [
    "The slope test proves our hypothesis is wrong indicating there is a relation between the two variables"
   ]
  },
  {
   "cell_type": "code",
   "execution_count": 12,
   "metadata": {},
   "outputs": [],
   "source": [
    "def calc_pmf(series):\n",
    "    pmf = series/sum(series)\n",
    "    return series.index,pmf"
   ]
  },
  {
   "cell_type": "code",
   "execution_count": 13,
   "metadata": {},
   "outputs": [
    {
     "data": {
      "text/plain": [
       "Text(0,0.5,'Probability')"
      ]
     },
     "execution_count": 13,
     "metadata": {},
     "output_type": "execute_result"
    },
    {
     "data": {
      "image/png": "[encoded data removed]",
      "text/plain": [
       "<matplotlib.figure.Figure at 0x1a12a805f8>"
      ]
     },
     "metadata": {},
     "output_type": "display_data"
    }
   ],
   "source": [
    "index,prob = calc_pmf(df['finalwt'])\n",
    "plt.bar(index,prob)\n",
    "plt.title('Probability mass function for sampling')\n",
    "plt.xlabel('Weight of the sample')\n",
    "plt.ylabel('Probability')"
   ]
  },
  {
   "cell_type": "code",
   "execution_count": 14,
   "metadata": {},
   "outputs": [],
   "source": [
    "est_wgt = [np.random.choice(df['htm3'],replace=True,p=prob,size=df['htm3'].shape) for _ in range(100)]\n",
    "est = [np.random.choice(df['htm3'],replace=True,size=df['htm3'].shape) for _ in range(100)]\n",
    "est_mean_wgt = [np.mean(x) for x in est_wgt]\n",
    "est_mean = [np.mean(x) for x in  est]"
   ]
  },
  {
   "cell_type": "code",
   "execution_count": 15,
   "metadata": {},
   "outputs": [
    {
     "data": {
      "text/html": [
       "<div>\n",
       "<style scoped>\n",
       "    .dataframe tbody tr th:only-of-type {\n",
       "        vertical-align: middle;\n",
       "    }\n",
       "\n",
       "    .dataframe tbody tr th {\n",
       "        vertical-align: top;\n",
       "    }\n",
       "\n",
       "    .dataframe thead th {\n",
       "        text-align: right;\n",
       "    }\n",
       "</style>\n",
       "<table border=\"1\" class=\"dataframe\">\n",
       "  <thead>\n",
       "    <tr style=\"text-align: right;\">\n",
       "      <th></th>\n",
       "      <th>Weighted</th>\n",
       "      <th>Unweighted</th>\n",
       "    </tr>\n",
       "  </thead>\n",
       "  <tbody>\n",
       "    <tr>\n",
       "      <th>Mean</th>\n",
       "      <td>171.385</td>\n",
       "      <td>169.127</td>\n",
       "    </tr>\n",
       "    <tr>\n",
       "      <th>Std Error</th>\n",
       "      <td>0.382101</td>\n",
       "      <td>0.321515</td>\n",
       "    </tr>\n",
       "    <tr>\n",
       "      <th>90% CI</th>\n",
       "      <td>(170.73396424815982, 171.96740273396424)</td>\n",
       "      <td>(168.6603575184017, 169.62565720294427)</td>\n",
       "    </tr>\n",
       "  </tbody>\n",
       "</table>\n",
       "</div>"
      ],
      "text/plain": [
       "                                           Weighted  \\\n",
       "Mean                                        171.385   \n",
       "Std Error                                  0.382101   \n",
       "90% CI     (170.73396424815982, 171.96740273396424)   \n",
       "\n",
       "                                        Unweighted  \n",
       "Mean                                       169.127  \n",
       "Std Error                                 0.321515  \n",
       "90% CI     (168.6603575184017, 169.62565720294427)  "
      ]
     },
     "execution_count": 15,
     "metadata": {},
     "output_type": "execute_result"
    }
   ],
   "source": [
    "def compute_CI(values,CI):\n",
    "    U_CI = CI+(1-CI)/2\n",
    "    L_CI = (1-CI)/2\n",
    "    \n",
    "    x1,y1 = compute_cdf(values)\n",
    "    low = percentile(L_CI,x1)\n",
    "    high = percentile(U_CI,x1)\n",
    "    return low,high\n",
    "\n",
    "title = ['Weighted','Unweighted']\n",
    "means =[np.mean(est_mean_wgt),np.mean(est_mean)]\n",
    "std_errors = [np.std(est_mean_wgt),np.std(est_mean)]\n",
    "CIs = [compute_CI(est_mean_wgt,0.9),compute_CI(est_mean,0.9)]\n",
    "results= [means,std_errors,CIs]\n",
    "pd.DataFrame(results,columns=title,index=['Mean','Std Error','90% CI'])"
   ]
  },
  {
   "cell_type": "markdown",
   "metadata": {},
   "source": [
    "The estimated mean height is almost 2 cm taller \n",
    "if we take into account the sampling weights and this difference is much bigger than the sampling error.\n"
   ]
  },
  {
   "cell_type": "code",
   "execution_count": 17,
   "metadata": {},
   "outputs": [
    {
     "data": {
      "text/plain": [
       "(10.232543807915086, 0.0916326528070208)"
      ]
     },
     "execution_count": 17,
     "metadata": {},
     "output_type": "execute_result"
    }
   ],
   "source": [
    "np.std(hgt), np.std(df['residual'])"
   ]
  },
  {
   "cell_type": "code",
   "execution_count": null,
   "metadata": {},
   "outputs": [],
   "source": []
  }
 ],
 "metadata": {
  "kernelspec": {
   "display_name": "Python 3",
   "language": "python",
   "name": "python3"
  },
  "language_info": {
   "codemirror_mode": {
    "name": "ipython",
    "version": 3
   },
   "file_extension": ".py",
   "mimetype": "text/x-python",
   "name": "python",
   "nbconvert_exporter": "python",
   "pygments_lexer": "ipython3",
   "version": "3.6.4"
  }
 },
 "nbformat": 4,
 "nbformat_minor": 2
}
