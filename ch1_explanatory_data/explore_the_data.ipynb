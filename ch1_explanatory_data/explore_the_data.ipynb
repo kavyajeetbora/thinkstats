{
 "cells": [
  {
   "cell_type": "code",
   "execution_count": 24,
   "metadata": {},
   "outputs": [],
   "source": [
    "import pandas as pd\n",
    "import os\n",
    "import numpy as np\n",
    "import matplotlib.pyplot as plt"
   ]
  },
  {
   "cell_type": "code",
   "execution_count": 25,
   "metadata": {},
   "outputs": [],
   "source": [
    "os.chdir(os.path.join('..','data'))\n",
    "df = pd.read_csv(r'2002FemPreg.csv',low_memory=False)"
   ]
  },
  {
   "cell_type": "code",
   "execution_count": 26,
   "metadata": {},
   "outputs": [],
   "source": [
    "# learn about dtypes : \n",
    "# https://stackoverflow.com/questions/24251219/pandas-read-csv-low-memory-and-dtype-options"
   ]
  },
  {
   "cell_type": "code",
   "execution_count": 27,
   "metadata": {},
   "outputs": [
    {
     "name": "stdout",
     "output_type": "stream",
     "text": [
      "<class 'pandas.core.frame.DataFrame'>\n",
      "RangeIndex: 13593 entries, 0 to 13592\n",
      "Columns: 245 entries, Unnamed: 0 to totalwgt_lb\n",
      "dtypes: float64(170), int64(74), object(1)\n",
      "memory usage: 25.4+ MB\n"
     ]
    }
   ],
   "source": [
    "df.info()"
   ]
  },
  {
   "cell_type": "code",
   "execution_count": 28,
   "metadata": {},
   "outputs": [
    {
     "data": {
      "text/plain": [
       "1    9148\n",
       "4    1921\n",
       "2    1862\n",
       "6     352\n",
       "5     190\n",
       "3     120\n",
       "Name: outcome, dtype: int64"
      ]
     },
     "execution_count": 28,
     "metadata": {},
     "output_type": "execute_result"
    }
   ],
   "source": [
    "# caseid,prglngth,outcome,pregordr,birthord,birthwgt_lb,birthwgt_oz,agepreg,finalwgt\n",
    "\n",
    "# value counts\n",
    "df.outcome.value_counts()"
   ]
  },
  {
   "cell_type": "code",
   "execution_count": 29,
   "metadata": {},
   "outputs": [
    {
     "name": "stdout",
     "output_type": "stream",
     "text": [
      "<class 'pandas.core.frame.DataFrame'>\n",
      "RangeIndex: 13593 entries, 0 to 13592\n",
      "Data columns (total 8 columns):\n",
      "caseid         13593 non-null int64\n",
      "prglngth       13593 non-null int64\n",
      "outcome        13593 non-null int64\n",
      "pregordr       13593 non-null int64\n",
      "birthord       9148 non-null float64\n",
      "totalwgt_lb    9038 non-null float64\n",
      "agepreg        13241 non-null float64\n",
      "finalwgt       13593 non-null float64\n",
      "dtypes: float64(4), int64(4)\n",
      "memory usage: 849.6 KB\n"
     ]
    }
   ],
   "source": [
    "# make the dataframe with chosen variables\n",
    "# caseid,prglngth,outcome,pregordr,birthord,birthwgt_lb,birthwgt_oz,agepreg,finalwgt\n",
    "df2 = df[['caseid','prglngth','outcome','pregordr','birthord','totalwgt_lb','agepreg','finalwgt']]\n",
    "df2.info()\n",
    "# check for nan values and remove from the columns\n"
   ]
  },
  {
   "cell_type": "code",
   "execution_count": 30,
   "metadata": {},
   "outputs": [
    {
     "data": {
      "text/plain": [
       "1    9148\n",
       "2    1862\n",
       "3     120\n",
       "4    1921\n",
       "5     190\n",
       "6     352\n",
       "Name: outcome, dtype: int64"
      ]
     },
     "execution_count": 30,
     "metadata": {},
     "output_type": "execute_result"
    }
   ],
   "source": [
    "df2['outcome'].value_counts(sort=False)"
   ]
  },
  {
   "cell_type": "code",
   "execution_count": 31,
   "metadata": {},
   "outputs": [
    {
     "data": {
      "text/html": [
       "<div>\n",
       "<style scoped>\n",
       "    .dataframe tbody tr th:only-of-type {\n",
       "        vertical-align: middle;\n",
       "    }\n",
       "\n",
       "    .dataframe tbody tr th {\n",
       "        vertical-align: top;\n",
       "    }\n",
       "\n",
       "    .dataframe thead th {\n",
       "        text-align: right;\n",
       "    }\n",
       "</style>\n",
       "<table border=\"1\" class=\"dataframe\">\n",
       "  <thead>\n",
       "    <tr style=\"text-align: right;\">\n",
       "      <th></th>\n",
       "      <th>caseid</th>\n",
       "      <th>prglngth</th>\n",
       "      <th>outcome</th>\n",
       "      <th>pregordr</th>\n",
       "      <th>birthord</th>\n",
       "      <th>totalwgt_lb</th>\n",
       "      <th>agepreg</th>\n",
       "      <th>finalwgt</th>\n",
       "    </tr>\n",
       "  </thead>\n",
       "  <tbody>\n",
       "  </tbody>\n",
       "</table>\n",
       "</div>"
      ],
      "text/plain": [
       "Empty DataFrame\n",
       "Columns: [caseid, prglngth, outcome, pregordr, birthord, totalwgt_lb, agepreg, finalwgt]\n",
       "Index: []"
      ]
     },
     "execution_count": 31,
     "metadata": {},
     "output_type": "execute_result"
    }
   ],
   "source": [
    "df2[df2['outcome']==np.nan]"
   ]
  },
  {
   "cell_type": "code",
   "execution_count": 32,
   "metadata": {},
   "outputs": [
    {
     "name": "stdout",
     "output_type": "stream",
     "text": [
      "dict_values([[1, 3], [2, 4], [1, 21], [4]])\n"
     ]
    }
   ],
   "source": [
    "from collections import defaultdict\n",
    "# The difference is that a defaultdict will \"default\" a value if that key has not been set yet. \n",
    "# If you didn't use a defaultdict you'd have to check to see if that key exists, and if it doesn't, \n",
    "# set it to what you want.\n",
    "\n",
    "# defaultdict examples\n",
    "s = [('yellow', 1), ('blue', 2), ('yellow', 3), ('blue', 4), ('red', 1),('grey',4),('red',21)]\n",
    "d1 = defaultdict(list) \n",
    "for key,value in s:\n",
    "    d1[key].append(value)\n",
    "# Now lets get back to the problem\n",
    "\n",
    "print(d1.values())\n",
    "def makePregMap():\n",
    "    d = defaultdict(list)\n",
    "    for key,value in df2['caseid'].iteritems():\n",
    "        d[key].append(value)\n",
    "    return d"
   ]
  },
  {
   "cell_type": "code",
   "execution_count": 33,
   "metadata": {},
   "outputs": [
    {
     "data": {
      "text/plain": [
       "11093    4\n",
       "11094    4\n",
       "11095    4\n",
       "11096    4\n",
       "11097    4\n",
       "11098    4\n",
       "11099    1\n",
       "Name: outcome, dtype: int64"
      ]
     },
     "execution_count": 33,
     "metadata": {},
     "output_type": "execute_result"
    }
   ],
   "source": [
    "caseid = 10229\n",
    "df2.loc[df2['caseid']==caseid]['outcome']"
   ]
  },
  {
   "cell_type": "code",
   "execution_count": 80,
   "metadata": {},
   "outputs": [
    {
     "data": {
      "image/png": "[encoded data removed]",
      "text/plain": [
       "<matplotlib.figure.Figure at 0x110b57470>"
      ]
     },
     "metadata": {},
     "output_type": "display_data"
    }
   ],
   "source": [
    "# TO CHECK WHETHER THE FIRST BABY ARRIVES LATE THAN OTHERS\n",
    "\n",
    "# explore the variables one at a time\n",
    "\n",
    "fig, (ax1,ax2) = plt.subplots(nrows = 2)\n",
    "# plot the pregnency length\n",
    "df2['prglngth'].value_counts()\n",
    "series1 = df2['prglngth']\n",
    "series1.plot.hist(ax=ax1,title='Distribution of pregnency length',figsize=(5,5))\n",
    "# compare the sum,mean,std etc\n",
    "# grouping the columns\n",
    "series2 = df2.groupby('pregordr').mean()['prglngth']\n",
    "series2.plot(ax=ax2,title='Mean of pregnency length vs pregnency number')\n",
    "ax2.set_xlabel('pregnency number')\n",
    "ax2.set_ylabel('pregnency length in weeks')\n",
    "\n",
    "# adjust the horizontal spacing between the subplots\n",
    "plt.subplots_adjust(hspace=0.5)\n",
    "# pregency length is in week"
   ]
  },
  {
   "cell_type": "code",
   "execution_count": 35,
   "metadata": {},
   "outputs": [
    {
     "data": {
      "image/png": "[encoded data removed]",
      "text/plain": [
       "<matplotlib.figure.Figure at 0x10e6492e8>"
      ]
     },
     "metadata": {},
     "output_type": "display_data"
    }
   ],
   "source": [
    "#plotting histogram for all pregnency orders \n",
    "types_pregorder = df2['pregordr'].value_counts().index\n",
    "for order in types_pregorder:\n",
    "    series1 = df2[df2['pregordr'] == order]['prglngth']\n",
    "    label = 'Pregnency serial number: '+str(order)\n",
    "    plt.hist(series1,histtype='step',label=label)\n",
    "    plt.legend()\n",
    "    "
   ]
  },
  {
   "cell_type": "code",
   "execution_count": 53,
   "metadata": {},
   "outputs": [
    {
     "data": {
      "text/plain": [
       "<matplotlib.axes._subplots.AxesSubplot at 0x11607abe0>"
      ]
     },
     "execution_count": 53,
     "metadata": {},
     "output_type": "execute_result"
    },
    {
     "data": {
      "image/png": "[encoded data removed]",
      "text/plain": [
       "<matplotlib.figure.Figure at 0x11604f2b0>"
      ]
     },
     "metadata": {},
     "output_type": "display_data"
    }
   ],
   "source": [
    "# distribution of birthwgt \n",
    "series_wgt = df2['totalwgt_lb']*0.453592\n",
    "fig2, ax2 = plt.subplots()\n",
    "# plotting histogram with properties\n",
    "series_wgt.plot.hist(ax=ax2,figsize=(5,5),title='Distribution of baby\\'s weight',xlim=(min(series_wgt),max(series_wgt)))"
   ]
  },
  {
   "cell_type": "code",
   "execution_count": 85,
   "metadata": {},
   "outputs": [
    {
     "data": {
      "text/plain": [
       "count    13241.000000\n",
       "mean        24.688151\n",
       "std          5.814708\n",
       "min         10.330000\n",
       "25%         20.080000\n",
       "50%         23.910000\n",
       "75%         28.660000\n",
       "max         44.080000\n",
       "Name: agepreg, dtype: float64"
      ]
     },
     "execution_count": 85,
     "metadata": {},
     "output_type": "execute_result"
    },
    {
     "data": {
      "image/png": "[encoded data removed]",
      "text/plain": [
       "<matplotlib.figure.Figure at 0x1111f0470>"
      ]
     },
     "metadata": {},
     "output_type": "display_data"
    }
   ],
   "source": [
    "# distribution of mother's age at the time of pregnency\n",
    "df2['agepreg'].plot.hist(figsize=(5,5),bins=20)\n",
    "# normal distributio\n",
    "df2['agepreg'].describe()"
   ]
  },
  {
   "cell_type": "code",
   "execution_count": 90,
   "metadata": {},
   "outputs": [
    {
     "data": {
      "text/plain": [
       "<matplotlib.axes._subplots.AxesSubplot at 0x11157aba8>"
      ]
     },
     "execution_count": 90,
     "metadata": {},
     "output_type": "execute_result"
    },
    {
     "data": {
      "image/png": "[encoded data removed]",
      "text/plain": [
       "<matplotlib.figure.Figure at 0x1115aa860>"
      ]
     },
     "metadata": {},
     "output_type": "display_data"
    }
   ],
   "source": [
    "# selecting only the live birth\n",
    "df3= df2[df2['outcome']==1]\n",
    "df3['prglngth'].plot.hist(bins=20)\n",
    "\n",
    "# outcome 1- live birth and 4-miscarriage = pregnency that ended spontaneously with no medical cause"
   ]
  },
  {
   "cell_type": "code",
   "execution_count": null,
   "metadata": {},
   "outputs": [],
   "source": []
  }
 ],
 "metadata": {
  "kernelspec": {
   "display_name": "Python 3",
   "language": "python",
   "name": "python3"
  },
  "language_info": {
   "codemirror_mode": {
    "name": "ipython",
    "version": 3
   },
   "file_extension": ".py",
   "mimetype": "text/x-python",
   "name": "python",
   "nbconvert_exporter": "python",
   "pygments_lexer": "ipython3",
   "version": "3.6.4"
  }
 },
 "nbformat": 4,
 "nbformat_minor": 2
}
