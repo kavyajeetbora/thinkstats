{
 "cells": [
  {
   "cell_type": "code",
   "execution_count": 2,
   "metadata": {},
   "outputs": [],
   "source": [
    "import pandas as pd, matplotlib.pyplot as plt, numpy as np, os"
   ]
  },
  {
   "cell_type": "code",
   "execution_count": 3,
   "metadata": {},
   "outputs": [],
   "source": [
    "os.chdir(os.path.join('..','data'))\n",
    "df = pd.read_csv(r'marathon.csv',low_memory=False)"
   ]
  },
  {
   "cell_type": "code",
   "execution_count": 4,
   "metadata": {},
   "outputs": [
    {
     "name": "stdout",
     "output_type": "stream",
     "text": [
      "<class 'pandas.core.frame.DataFrame'>\n",
      "RangeIndex: 1596 entries, 0 to 1595\n",
      "Data columns (total 1 columns):\n",
      "speed    1596 non-null float64\n",
      "dtypes: float64(1)\n",
      "memory usage: 12.5 KB\n"
     ]
    }
   ],
   "source": [
    "df.info()\n",
    "\n",
    "\n",
    "# During my time on the course, the chance\n",
    "# of overtaking a runner, or being overtaken, is proportional to the difference\n",
    "# in our speeds. I am more likely to catch a slow runner, and more likely to be\n",
    "# caught by a fast runner. But runners at the same speed are unlikely to see\n",
    "# each other.\n",
    "# Write a function called ObservedPmf that takes a Pmf representing the actual\n",
    "# distribution of runners’ speeds, and the speed of a running observer, and\n",
    "# returns a new Pmf representing the distribution of runners’ speeds as seen\n",
    "# by the observer"
   ]
  },
  {
   "cell_type": "code",
   "execution_count": 6,
   "metadata": {},
   "outputs": [
    {
     "data": {
      "text/html": [
       "<div>\n",
       "<style scoped>\n",
       "    .dataframe tbody tr th:only-of-type {\n",
       "        vertical-align: middle;\n",
       "    }\n",
       "\n",
       "    .dataframe tbody tr th {\n",
       "        vertical-align: top;\n",
       "    }\n",
       "\n",
       "    .dataframe thead th {\n",
       "        text-align: right;\n",
       "    }\n",
       "</style>\n",
       "<table border=\"1\" class=\"dataframe\">\n",
       "  <thead>\n",
       "    <tr style=\"text-align: right;\">\n",
       "      <th></th>\n",
       "      <th>speed</th>\n",
       "    </tr>\n",
       "  </thead>\n",
       "  <tbody>\n",
       "    <tr>\n",
       "      <th>0</th>\n",
       "      <td>12.09</td>\n",
       "    </tr>\n",
       "    <tr>\n",
       "      <th>1</th>\n",
       "      <td>11.73</td>\n",
       "    </tr>\n",
       "    <tr>\n",
       "      <th>2</th>\n",
       "      <td>11.73</td>\n",
       "    </tr>\n",
       "    <tr>\n",
       "      <th>3</th>\n",
       "      <td>11.46</td>\n",
       "    </tr>\n",
       "    <tr>\n",
       "      <th>4</th>\n",
       "      <td>11.28</td>\n",
       "    </tr>\n",
       "  </tbody>\n",
       "</table>\n",
       "</div>"
      ],
      "text/plain": [
       "   speed\n",
       "0  12.09\n",
       "1  11.73\n",
       "2  11.73\n",
       "3  11.46\n",
       "4  11.28"
      ]
     },
     "execution_count": 6,
     "metadata": {},
     "output_type": "execute_result"
    }
   ],
   "source": [
    "df.head()"
   ]
  },
  {
   "cell_type": "code",
   "execution_count": 11,
   "metadata": {},
   "outputs": [
    {
     "data": {
      "text/plain": [
       "(6.841353383458628, 1.156108941697621)"
      ]
     },
     "execution_count": 11,
     "metadata": {},
     "output_type": "execute_result"
    },
    {
     "data": {
      "image/png": "[encoded data removed]",
      "text/plain": [
       "<matplotlib.figure.Figure at 0x1093a3a20>"
      ]
     },
     "metadata": {},
     "output_type": "display_data"
    }
   ],
   "source": [
    "# plot the actual distribution\n",
    "df['speed'].plot.hist(bins=20)\n",
    "df['speed'].mean(), df['speed'].std()"
   ]
  },
  {
   "cell_type": "code",
   "execution_count": 39,
   "metadata": {},
   "outputs": [
    {
     "data": {
      "text/plain": [
       "<Container object of 82 artists>"
      ]
     },
     "execution_count": 39,
     "metadata": {},
     "output_type": "execute_result"
    },
    {
     "data": {
      "image/png": "[encoded data removed]",
      "text/plain": [
       "<matplotlib.figure.Figure at 0x10ab643c8>"
      ]
     },
     "metadata": {},
     "output_type": "display_data"
    }
   ],
   "source": [
    "# pmf for the actual distribution\n",
    "def calc_pmf_df(key,df):\n",
    "    freq = df[key].value_counts().sort_index()\n",
    "    freq_sum = sum(freq)\n",
    "    pmf = freq/freq_sum\n",
    "    return pmf.index,pmf.values\n",
    "\n",
    "x,y=calc_pmf('speed',df)\n",
    "plt.bar(x,y)"
   ]
  },
  {
   "cell_type": "code",
   "execution_count": 54,
   "metadata": {},
   "outputs": [
    {
     "data": {
      "text/plain": [
       "7.0365999010880325"
      ]
     },
     "execution_count": 54,
     "metadata": {},
     "output_type": "execute_result"
    }
   ],
   "source": [
    "from collections import defaultdict\n",
    "\n",
    "# calculate the mean of the observers\n",
    "\n",
    "series = df['speed'].value_counts()\n",
    "total = 0\n",
    "observers= 0\n",
    "new_d = defaultdict()\n",
    "for index,value in series.iteritems():\n",
    "    new_d[index] = index*value\n",
    "    total += index*value*index\n",
    "    observers += index*value\n",
    "    \n",
    "total/observers\n",
    "\n"
   ]
  },
  {
   "cell_type": "code",
   "execution_count": 55,
   "metadata": {},
   "outputs": [
    {
     "name": "stdout",
     "output_type": "stream",
     "text": [
      "Mean =  7.036599901088034  | standard deviation =  1.198290879052728\n"
     ]
    },
    {
     "data": {
      "text/plain": [
       "<Container object of 82 artists>"
      ]
     },
     "execution_count": 55,
     "metadata": {},
     "output_type": "execute_result"
    },
    {
     "data": {
      "image/png": "[encoded data removed]",
      "text/plain": [
       "<matplotlib.figure.Figure at 0x10943ca58>"
      ]
     },
     "metadata": {},
     "output_type": "display_data"
    }
   ],
   "source": [
    "def calc_pmf(dictionary):\n",
    "    freq = dictionary.values()\n",
    "    freq_sum = sum(freq)\n",
    "    pmf = [x/freq_sum for x in freq]\n",
    "    return list(dictionary.keys()),pmf\n",
    "\n",
    "def calc_mean_std(dictionary):\n",
    "    x,y = calc_pmf(dictionary)\n",
    "    df = pd.DataFrame({'speed':x,'prob':y})\n",
    "    mean = sum((df['speed'])*(df['prob']))\n",
    "    std = math.sqrt(sum(df['prob']*(df['speed']-mean)**2))\n",
    "    print('Mean = ',mean,' | standard deviation = ',std)\n",
    "    return df\n",
    "\n",
    "df_observed = calc_mean_std(new_d)\n",
    "plt.bar(df_observed['speed'],df_observed['prob'])"
   ]
  },
  {
   "cell_type": "code",
   "execution_count": null,
   "metadata": {},
   "outputs": [],
   "source": []
  }
 ],
 "metadata": {
  "kernelspec": {
   "display_name": "Python 3",
   "language": "python",
   "name": "python3"
  },
  "language_info": {
   "codemirror_mode": {
    "name": "ipython",
    "version": 3
   },
   "file_extension": ".py",
   "mimetype": "text/x-python",
   "name": "python",
   "nbconvert_exporter": "python",
   "pygments_lexer": "ipython3",
   "version": "3.6.4"
  }
 },
 "nbformat": 4,
 "nbformat_minor": 2
}
