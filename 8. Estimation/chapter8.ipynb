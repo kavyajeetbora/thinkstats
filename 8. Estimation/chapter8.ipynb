{
 "cells": [
  {
   "cell_type": "code",
   "execution_count": 65,
   "metadata": {},
   "outputs": [],
   "source": [
    "import numpy as np\n",
    "import pandas as pd\n",
    "import matplotlib.pyplot as plt\n",
    "import scipy.stats as stats\n",
    "import os"
   ]
  },
  {
   "cell_type": "markdown",
   "metadata": {},
   "source": [
    "8.1 The Estimation Game\n",
    "---"
   ]
  },
  {
   "cell_type": "code",
   "execution_count": 66,
   "metadata": {},
   "outputs": [],
   "source": [
    "sample1 = [-0.441, 1.774, -0.101, -1.138, 2.975, -2.138]"
   ]
  },
  {
   "cell_type": "markdown",
   "metadata": {},
   "source": [
    "What do you think is the mean parameter, µ, of this distribution\n",
    "\n",
    "one option can be mean parameter for population is sample mean\n",
    "\n",
    "This process is\n",
    "called estimation, and the statistic we used (the sample mean) is called an\n",
    "estimator.\n",
    "\n",
    "We can also use the median to predict the actual mean."
   ]
  },
  {
   "cell_type": "code",
   "execution_count": 67,
   "metadata": {},
   "outputs": [
    {
     "data": {
      "text/plain": [
       "0.15516666666666667"
      ]
     },
     "execution_count": 67,
     "metadata": {},
     "output_type": "execute_result"
    }
   ],
   "source": [
    "np.mean(sample1)"
   ]
  },
  {
   "cell_type": "code",
   "execution_count": 68,
   "metadata": {},
   "outputs": [
    {
     "name": "stdout",
     "output_type": "stream",
     "text": [
      "Mean:  0.15516666666666667 Median:  -0.271\n"
     ]
    }
   ],
   "source": [
    "# with outliers\n",
    "sample2 = [-0.441, 1.774, -0.101, -1.138, 2.975, -213.8]\n",
    "print('Mean: ',np.mean(sample1),'Median: ',np.median(sample1))"
   ]
  },
  {
   "cell_type": "markdown",
   "metadata": {},
   "source": [
    "Which estimator is best depends on the circumstances (for example, whether\n",
    "there are outliers) and on what the goal is. Are you trying to minimize errors,\n",
    "or maximize your chance of getting the right answer?"
   ]
  },
  {
   "cell_type": "markdown",
   "metadata": {},
   "source": [
    "If there are no outliers, the sample mean minimizes the mean squared error\n",
    "(MSE). That is, if we play the game many times, and each time compute the\n",
    "error ¯ x − µ, the sample mean minimizes\n",
    "\n",
    "MSE = 1/m X sum(mean_sample − µ)2"
   ]
  },
  {
   "cell_type": "code",
   "execution_count": 69,
   "metadata": {},
   "outputs": [],
   "source": [
    "def estimate(given_sample,m):\n",
    "    mean = np.mean(given_sample)\n",
    "    std = np.std(given_sample)\n",
    "    n = len(given_sample)\n",
    "    \n",
    "    means = []\n",
    "    medians = []\n",
    "    \n",
    "    for _ in range(m):\n",
    "        sample = np.random.normal(loc=mean,scale=std,size=n)\n",
    "        xbar = np.mean(sample)\n",
    "        median = np.median(sample)\n",
    "        \n",
    "        means.append(xbar)\n",
    "        medians.append(median)\n",
    "        \n",
    "    return means,medians\n",
    "\n",
    "# root mean square error\n",
    "def RMSE(estimates,actual):\n",
    "    return (np.mean([(estimate-actual)**2 for estimate in estimates]))**0.5"
   ]
  },
  {
   "cell_type": "code",
   "execution_count": 70,
   "metadata": {},
   "outputs": [
    {
     "name": "stdout",
     "output_type": "stream",
     "text": [
      "0.7345244044830945 0.8152686985748441\n"
     ]
    }
   ],
   "source": [
    "means,medians = estimate(sample1,1000)\n",
    "med_rmse = RMSE(medians,np.mean(sample1))\n",
    "mean_rmse = RMSE(means,np.mean(sample1))\n",
    "\n",
    "print(mean_rmse,med_rmse)"
   ]
  },
  {
   "cell_type": "markdown",
   "metadata": {},
   "source": [
    "The purpose of this experiment is to compare the performance\n",
    "of the two estimators.\n",
    "In this example, confirms that mean yields lower\n",
    "RMSE than median, at least for this example.\n",
    "\n",
    "Minimizing MSE is a nice property, but it’s not always the best strategy.\n",
    "For example, suppose we are estimating the distribution of wind speeds at a\n",
    "building site. If the estimate is too high, we might overbuild the structure,\n",
    "increasing its cost. But if it’s too low, the building might collapse. Because\n",
    "cost as a function of error is not symmetric, minimizing MSE is not the best\n",
    "strategy.\n",
    "\n",
    "As another example, suppose I roll three six-sided dice and ask you to predict\n",
    "the total. If you get it exactly right, you get a prize; otherwise you get\n",
    "nothing. In this case the value that minimizes MSE is 10.5, but that would\n",
    "be a bad guess, because the total of three dice is never 10.5. For this game,\n",
    "you want an estimator that has the highest chance of being right, which is a\n",
    "maximum likelihood estimator (MLE). If you pick 10 or 11, your chance\n",
    "of winning is 1 in 8, and that’s the best you can do"
   ]
  },
  {
   "cell_type": "markdown",
   "metadata": {},
   "source": [
    "8.2 Guess the variance\n",
    "---"
   ]
  },
  {
   "cell_type": "markdown",
   "metadata": {},
   "source": [
    "[-0.441, 1.774, -0.101, -1.138, 2.975, -2.138]\n",
    "\n",
    "For large samples, S2 is an adequate estimator, but for small samples it tends\n",
    "to be too low. Because of this unfortunate property, it is called a biased\n",
    "estimator. An estimator is unbiased if the expected total (or mean) error,\n",
    "after many iterations of the estimation game, is 0.\n",
    "\n",
    "Fortunately, there is another simple statistic that is an unbiased estimator\n",
    "of σ2: Bessel's correction"
   ]
  },
  {
   "cell_type": "markdown",
   "metadata": {},
   "source": [
    "function that simulates the estimation game and tests the performance of S2 and S2\n",
    "n−1"
   ]
  },
  {
   "cell_type": "code",
   "execution_count": 71,
   "metadata": {},
   "outputs": [],
   "source": [
    "def estimate_std(sample,m):\n",
    "    mean = np.mean(sample)\n",
    "    std = np.std(sample,ddof=0)\n",
    "    n= len(sample)\n",
    "    \n",
    "    estimate1 = []\n",
    "    estimate2 = []\n",
    "    \n",
    "    for _ in range(m):\n",
    "        sample = np.random.normal(loc=mean,scale=std,size=n)\n",
    "        biased = np.std(sample,ddof=0)\n",
    "        unbiased = np.std(sample,ddof=1)\n",
    "        \n",
    "        estimate1.append(biased)\n",
    "        estimate2.append(unbiased)\n",
    "        \n",
    "    return estimate1,estimate2\n",
    "\n",
    "def MeanError(estimates,actual):\n",
    "    return np.mean([(estimate-actual) for estimate in estimates])"
   ]
  },
  {
   "cell_type": "code",
   "execution_count": 72,
   "metadata": {},
   "outputs": [
    {
     "name": "stdout",
     "output_type": "stream",
     "text": [
      "-0.22591477181438915 -0.08251076397410748\n"
     ]
    }
   ],
   "source": [
    "sample = [-0.441, 1.774, -0.101, -1.138, 2.975, -2.138]\n",
    "std_sample = np.std(sample,ddof=0)\n",
    "biased,unbiased = estimate_std(sample,1000)\n",
    "\n",
    "print(MeanError(biased,std_sample),MeanError(unbiased,std_sample))"
   ]
  },
  {
   "cell_type": "markdown",
   "metadata": {},
   "source": [
    "The mean error is almost 10 times smaller with the bessels's correction.\n",
    " As m increases, we expect the mean error for Sn 2−1\n",
    "to approach 0.\n",
    "\n",
    "Properties like MSE and bias are long-term expectations based on many\n",
    "iterations of the estimation game. By running simulations like the ones in\n",
    "this chapter, we can compare estimators and check whether they have desired\n",
    "properties.\n",
    "\n",
    "After you choose an estimator with appropriate properties, and use it to\n",
    "generate an estimate, the next step is to characterize the uncertainty of the\n",
    "estimate.\n",
    "\n",
    "8.3 Sampling Distributions\n",
    "---"
   ]
  },
  {
   "cell_type": "markdown",
   "metadata": {},
   "source": [
    "Having weighed 9 female gorillas, you might find ¯ x = 90 kg and sample\n",
    "standard deviation, S = 7:5 kg. The sample mean is an unbiased estimator\n",
    "of µ, and in the long run it minimizes MSE. So if you report a single estimate\n",
    "that summarizes the results, you would report 90 kg.\n",
    "\n",
    " Variation in\n",
    "the estimate caused by random selection is called **sampling error**.\n",
    "\n",
    "To quantify sampling error, we can simulate the sampling process with hypothetical values of µ and σ, and see how much sample mean varies"
   ]
  },
  {
   "cell_type": "code",
   "execution_count": 73,
   "metadata": {},
   "outputs": [],
   "source": [
    "mu = 90\n",
    "std = 7.5\n",
    "\n",
    "def simulate(mu,std,n,m):\n",
    "    \n",
    "    estimate1 = []\n",
    "    \n",
    "    for _ in range(m):\n",
    "        sample = np.random.normal(loc=mu,scale=std,size=n)\n",
    "        mean = np.mean(sample)\n",
    "        estimate1.append(mean)\n",
    "        \n",
    "    return estimate1\n",
    "\n",
    "def eval_cdf(value,series):\n",
    "    count =0\n",
    "    for x in series:\n",
    "        if x <= value:\n",
    "            count += 1\n",
    "    return count/len(series)\n",
    "\n",
    "def compute_cdf(series):\n",
    "    x = sorted(list(series))\n",
    "    y = []\n",
    "    for value in x:\n",
    "        y.append(eval_cdf(value,x))\n",
    "    return x,y\n",
    "def percentile(p,series):\n",
    "    series, cdfs = compute_cdf(series)\n",
    "    if p < min(cdfs):\n",
    "        p = min(cdfs)\n",
    "    return series[cdfs.index(max([cdf for cdf in cdfs if cdf <=p]))]"
   ]
  },
  {
   "cell_type": "code",
   "execution_count": 74,
   "metadata": {},
   "outputs": [],
   "source": [
    "sample_means = simulate(mu,std,9,1000)\n",
    "x,y = compute_cdf(sample_means)"
   ]
  },
  {
   "cell_type": "markdown",
   "metadata": {},
   "source": [
    "So if you report a single estimate\n",
    "that summarizes the results, you would report 90 kg.\n",
    "\n",
    "But how confident should you be in this estimate?\n",
    "\n",
    "If you only weigh n = 9\n",
    "gorillas out of a much larger population, you might be unlucky and choose\n",
    "the 9 heaviest gorillas (or the 9 lightest ones) just by chance. Variation in\n",
    "the estimate caused by random selection is called sampling error.\n",
    "\n",
    "To quantify sampling error, we can simulate the sampling process with hypothetical values of µ and σ, and see how much sample mean varies.\n",
    "\n",
    "Since we don’t know the actual values of µ and σ in the population, we’ll use\n",
    "the estimates sample mean and Sample std. So the question we answer is:\n",
    "\n",
    "**If the actual values\n",
    "of µ and σ were 90 kg and 7.5 kg, and we ran the same experiment many\n",
    "times, how much would the estimated mean, sample mean, vary?**"
   ]
  },
  {
   "cell_type": "code",
   "execution_count": 75,
   "metadata": {},
   "outputs": [],
   "source": [
    "# calculate the root mean square error = standard error\n",
    "SE = RMSE(sample_means,mu) # standard error\n",
    "# Standard error describes variability in an estimate."
   ]
  },
  {
   "cell_type": "code",
   "execution_count": 76,
   "metadata": {},
   "outputs": [
    {
     "data": {
      "text/plain": [
       "[<matplotlib.lines.Line2D at 0x1a246b45358>]"
      ]
     },
     "execution_count": 76,
     "metadata": {},
     "output_type": "execute_result"
    },
    {
     "data": {
      "image/png": "[encoded data removed]",
      "text/plain": [
       "<Figure size 432x288 with 1 Axes>"
      ]
     },
     "metadata": {},
     "output_type": "display_data"
    }
   ],
   "source": [
    "# at 95% confidence interval two-tailed\n",
    "wgt_5 = percentile(0.05,x)\n",
    "wgt_95 = percentile(0.95,x)\n",
    "\n",
    "plt.plot(x,y)\n",
    "plt.title('Sampling distribution of estimated mean with 90% confidence interval')\n",
    "plt.xlabel('Weights (kgs)')\n",
    "plt.ylabel('Cumulative')\n",
    "plt.plot([wgt_5,wgt_5],[0,1])\n",
    "plt.plot([wgt_95,wgt_95],[0,1])"
   ]
  },
  {
   "cell_type": "code",
   "execution_count": 77,
   "metadata": {},
   "outputs": [
    {
     "data": {
      "text/plain": [
       "90.04049120048559"
      ]
     },
     "execution_count": 77,
     "metadata": {},
     "output_type": "execute_result"
    }
   ],
   "source": [
    "np.mean(sample_means)"
   ]
  },
  {
   "cell_type": "markdown",
   "metadata": {},
   "source": [
    "The sampling distribution answers a different question: it gives you a\n",
    "sense of how reliable an estimate is by telling you how much it would\n",
    "vary if you ran the experiment again"
   ]
  },
  {
   "cell_type": "markdown",
   "metadata": {},
   "source": [
    "8.4 Sampling Bias\n",
    "------\n",
    "\n",
    "It is important to remember that confidence intervals and standard errors\n",
    "only quantify sampling error; that is, error due to measuring only part of the\n",
    "population. The sampling distribution does not account for other sources of\n",
    "error, notably sampling bias and measurement error.\n",
    "\n",
    "When you report an estimated quantity, it is useful to report standard error,\n",
    "or a confidence interval, or both, in order to quantify sampling error. But\n",
    "it is also important to remember that sampling error is only one source of\n",
    "error, and often it is not the biggest"
   ]
  },
  {
   "cell_type": "markdown",
   "metadata": {},
   "source": [
    "8.5 Exponential Estimation\n",
    "----"
   ]
  },
  {
   "cell_type": "code",
   "execution_count": 105,
   "metadata": {},
   "outputs": [
    {
     "data": {
      "text/plain": [
       "<matplotlib.legend.Legend at 0x1a246d064e0>"
      ]
     },
     "execution_count": 105,
     "metadata": {},
     "output_type": "execute_result"
    },
    {
     "data": {
      "image/png": "[encoded data removed]",
      "text/plain": [
       "<Figure size 432x288 with 1 Axes>"
      ]
     },
     "metadata": {},
     "output_type": "display_data"
    }
   ],
   "source": [
    "sample2 = [5.384, 4.493, 19.198, 2.790, 6.122, 12.844]\n",
    "model = np.random.exponential(scale=np.mean(sample2),size=100)\n",
    "\n",
    "x,y=compute_cdf(sample2)\n",
    "x1,y1 = compute_cdf(model)\n",
    "plt.scatter(x,y,label='data')\n",
    "plt.plot(x1,y1,label='model')\n",
    "plt.legend()"
   ]
  },
  {
   "cell_type": "markdown",
   "metadata": {},
   "source": [
    "What do you think is the parameter, λ, of this distribution?\n",
    "\n",
    "In general, the mean of an exponential distribution is 1/λ, so working backwards, we might choose\n",
    "L = 1/mean.\n",
    " \n",
    "median for exponential distribution: \n",
    "Lm = ln(2)/m"
   ]
  },
  {
   "cell_type": "markdown",
   "metadata": {},
   "source": [
    "numpy.random.exponential(scale,size)\n",
    "\n",
    "scale : float or array_like of floats\n",
    "\n",
    "The scale parameter, beta = 1/lambda."
   ]
  },
  {
   "cell_type": "code",
   "execution_count": 138,
   "metadata": {},
   "outputs": [],
   "source": [
    "def estimate_exp(series,iterations):\n",
    "    mean = np.mean(series)\n",
    "    lam = 1/mean\n",
    "    \n",
    "    lambda_estimate  = []\n",
    "    median_estimate = []\n",
    "    \n",
    "    for _ in range(iterations):\n",
    "        sample = np.random.exponential(scale=mean,size=len(series))\n",
    "        L = 1/np.mean(sample)\n",
    "        Lm = np.log(2)/L\n",
    "        \n",
    "        lambda_estimate.append(L)\n",
    "        median_estimate.append(Lm)\n",
    "    \n",
    "    return lambda_estimate,median_estimate"
   ]
  },
  {
   "cell_type": "code",
   "execution_count": 139,
   "metadata": {},
   "outputs": [
    {
     "name": "stdout",
     "output_type": "stream",
     "text": [
      "Mean RMSE:  0.07566833929908676  | Median RMSE:  2.4010565550293075\n"
     ]
    }
   ],
   "source": [
    "lamda_estimate,median_estimate = estimate_exp(sample2,iterations=1000)\n",
    "Lm = np.mean(sample2)*np.log(2)\n",
    "       \n",
    "print('Mean RMSE: ',RMSE(lamda_estimate,1/np.mean(sample2)),' | Median RMSE: ',RMSE(median_estimate,Lm))"
   ]
  },
  {
   "cell_type": "code",
   "execution_count": 145,
   "metadata": {},
   "outputs": [
    {
     "data": {
      "text/plain": [
       "3.436976478765753"
      ]
     },
     "execution_count": 145,
     "metadata": {},
     "output_type": "execute_result"
    }
   ],
   "source": [
    "def estimate_exp(series,iterations):\n",
    "    mean = np.mean(series)\n",
    "\n",
    "    mean_estimates  = []\n",
    "    median_estimate = []\n",
    "    \n",
    "    for _ in range(iterations):\n",
    "        sample = np.random.exponential(scale=mean,size=len(series))\n",
    "        sample_mean = np.mean(sample)\n",
    "        mean_estimates.append(sample_mean)\n",
    "    \n",
    "    return mean_estimates\n",
    "\n",
    "sample_means = estimate_exp(sample2,1000)\n",
    "RMSE(sample_means,np.mean(sample2))"
   ]
  },
  {
   "cell_type": "code",
   "execution_count": null,
   "metadata": {},
   "outputs": [],
   "source": []
  }
 ],
 "metadata": {
  "kernelspec": {
   "display_name": "Python 3",
   "language": "python",
   "name": "python3"
  },
  "language_info": {
   "codemirror_mode": {
    "name": "ipython",
    "version": 3
   },
   "file_extension": ".py",
   "mimetype": "text/x-python",
   "name": "python",
   "nbconvert_exporter": "python",
   "pygments_lexer": "ipython3",
   "version": "3.6.4"
  }
 },
 "nbformat": 4,
 "nbformat_minor": 2
}
